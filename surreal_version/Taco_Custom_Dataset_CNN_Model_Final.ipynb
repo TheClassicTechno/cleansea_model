{
  "nbformat": 4,
  "nbformat_minor": 0,
  "metadata": {
    "colab": {
      "name": "Taco Custom Dataset CNN Model Final",
      "provenance": [],
      "machine_shape": "hm",
      "background_execution": "on",
      "collapsed_sections": [],
      "authorship_tag": "ABX9TyOaIBlzDPCJuEpKohng/t6I",
      "include_colab_link": true
    },
    "kernelspec": {
      "name": "python3",
      "display_name": "Python 3"
    },
    "language_info": {
      "name": "python"
    },
    "accelerator": "GPU",
    "gpuClass": "standard"
  },
  "cells": [
    {
      "cell_type": "markdown",
      "metadata": {
        "id": "view-in-github",
        "colab_type": "text"
      },
      "source": [
        "<a href=\"https://colab.research.google.com/github/TheClassicTechno/cleansea_model/blob/main/surreal_version/Taco_Custom_Dataset_CNN_Model_Final.ipynb\" target=\"_parent\"><img src=\"https://colab.research.google.com/assets/colab-badge.svg\" alt=\"Open In Colab\"/></a>"
      ]
    },
    {
      "cell_type": "markdown",
      "source": [
        "#Taco Revised Dataset CNN Model\n",
        "\n",
        "achieved >95% accuracy consistently on the Taco Custom Dataset."
      ],
      "metadata": {
        "id": "0i54wSuEld8_"
      }
    },
    {
      "cell_type": "markdown",
      "source": [
        "##mount drive to access dataset"
      ],
      "metadata": {
        "id": "HxLRhOO0lpif"
      }
    },
    {
      "cell_type": "code",
      "source": [
        "from google.colab import drive\n",
        "drive.mount('/content/drive')"
      ],
      "metadata": {
        "colab": {
          "base_uri": "https://localhost:8080/"
        },
        "id": "A6i0R_D6Gk89",
        "outputId": "5342c92f-667d-4897-89c7-18e50bc35386"
      },
      "execution_count": 32,
      "outputs": [
        {
          "output_type": "stream",
          "name": "stdout",
          "text": [
            "Drive already mounted at /content/drive; to attempt to forcibly remount, call drive.mount(\"/content/drive\", force_remount=True).\n"
          ]
        }
      ]
    },
    {
      "cell_type": "markdown",
      "source": [
        "##import necessary libraries"
      ],
      "metadata": {
        "id": "Jf6mLAr-lsSa"
      }
    },
    {
      "cell_type": "code",
      "execution_count": 33,
      "metadata": {
        "id": "UmfB3Q5xGXAy"
      },
      "outputs": [],
      "source": [
        "from tensorflow import keras\n",
        "from tensorflow.keras import layers\n",
        "from tensorflow.keras.models import Sequential\n",
        "import pandas as pd\n",
        "import numpy as np\n",
        "import tensorflow as tf\n",
        "import os\n",
        "import matplotlib.pyplot as plt\n",
        "import pathlib\n",
        "import cv2\n",
        "import glob\n",
        "\n",
        "\n"
      ]
    },
    {
      "cell_type": "markdown",
      "source": [
        "##accessing paths of all 4 debris types + split entire Taco Dataset into train and validation 80-20 split"
      ],
      "metadata": {
        "id": "UkAsKwFLl6yN"
      }
    },
    {
      "cell_type": "code",
      "source": [
        "#processing images\n",
        "bottles1 = '/content/drive/MyDrive/TEAM9SURESTART/taco/bottles'\n",
        "cans1 = '/content/drive/MyDrive/TEAM9SURESTART/taco/cans'\n",
        "containers1 = '/content/drive/MyDrive/TEAM9SURESTART/taco/containers'\n",
        "#paper1 = '/content/drive/MyDrive/TEAM9SURESTART/taco/paper'\n",
        "plastic1 = '/content/drive/MyDrive/TEAM9SURESTART/taco/plastic'\n",
        "\n",
        "bottles = [cv2.imread(image) for image in glob.glob(bottles1)]\n",
        "cans = [cv2.imread(image) for image in glob.glob(cans1)]\n",
        "containers = [cv2.imread(image) for image in glob.glob(containers1)]\n",
        "#paper = [cv2.imread(image) for image in glob.glob(paper1)]\n",
        "plastic = [cv2.imread(image) for image in glob.glob(plastic1)]\n",
        "\n",
        "train_dataset = tf.keras.utils.image_dataset_from_directory(\n",
        "    '/content/drive/MyDrive/TEAM9SURESTART/taco',\n",
        "    validation_split = 0.2,\n",
        "    subset = \"training\",\n",
        "    seed = 24,  \n",
        "    image_size = (256, 256),\n",
        "    batch_size = 8\n",
        ")\n",
        "\n",
        "val_dataset = tf.keras.utils.image_dataset_from_directory(\n",
        "    '/content/drive/MyDrive/TEAM9SURESTART/taco',\n",
        "    validation_split = 0.2,\n",
        "    subset = \"validation\",\n",
        "    seed = 24,  \n",
        "    image_size = (256, 256),\n",
        "    batch_size = 8\n",
        ")\n",
        "\n",
        "\n",
        "\n",
        "\n",
        "\n",
        "train_dataset = train_dataset.cache().shuffle(13).prefetch(buffer_size = tf.data.AUTOTUNE)\n",
        "val_dataset = val_dataset.cache().shuffle(13).prefetch(buffer_size = tf.data.AUTOTUNE)\n"
      ],
      "metadata": {
        "colab": {
          "base_uri": "https://localhost:8080/"
        },
        "id": "ULsUt1M8MwrO",
        "outputId": "5ff585f4-1492-4ceb-c812-7157bb610fed"
      },
      "execution_count": 34,
      "outputs": [
        {
          "output_type": "stream",
          "name": "stdout",
          "text": [
            "Found 230 files belonging to 4 classes.\n",
            "Using 184 files for training.\n",
            "Found 230 files belonging to 4 classes.\n",
            "Using 46 files for validation.\n"
          ]
        }
      ]
    },
    {
      "cell_type": "markdown",
      "source": [
        "##model architecture\n",
        "\n",
        "###includes rescaling of input image shapes"
      ],
      "metadata": {
        "id": "8O4u8a0WmOkD"
      }
    },
    {
      "cell_type": "code",
      "source": [
        "\n",
        "model = Sequential ([\n",
        "    \n",
        "    \n",
        "    layers.Rescaling(1./255, input_shape = (256, 256, 3)),\n",
        "    layers.Conv2D(16, 3, padding = 'same', activation = 'relu'),\n",
        "    layers.MaxPooling2D(),\n",
        "    layers.Dropout(0.3),\n",
        "    layers.Conv2D(32, 3, padding = 'same', activation = 'relu'),\n",
        "    layers.MaxPooling2D(),\n",
        "    layers.Dropout(0.3),\n",
        "    layers.Conv2D(16, 3, padding = 'same', activation = 'relu'),\n",
        "    layers.MaxPooling2D(),\n",
        "    layers.Dropout(0.3),\n",
        "    layers.Flatten(),\n",
        "    layers.Dense(32, activation = 'relu'),\n",
        "    layers.Dense(4, activation = 'softmax')\n",
        "])\n",
        "model.summary()"
      ],
      "metadata": {
        "colab": {
          "base_uri": "https://localhost:8080/"
        },
        "id": "ZF96cNbCmNid",
        "outputId": "f914d4e3-7fcf-4b44-ed55-1f61ebe3e8d4"
      },
      "execution_count": 35,
      "outputs": [
        {
          "output_type": "stream",
          "name": "stdout",
          "text": [
            "Model: \"sequential_9\"\n",
            "_________________________________________________________________\n",
            " Layer (type)                Output Shape              Param #   \n",
            "=================================================================\n",
            " rescaling_9 (Rescaling)     (None, 256, 256, 3)       0         \n",
            "                                                                 \n",
            " conv2d_27 (Conv2D)          (None, 256, 256, 16)      448       \n",
            "                                                                 \n",
            " max_pooling2d_27 (MaxPoolin  (None, 128, 128, 16)     0         \n",
            " g2D)                                                            \n",
            "                                                                 \n",
            " dropout_27 (Dropout)        (None, 128, 128, 16)      0         \n",
            "                                                                 \n",
            " conv2d_28 (Conv2D)          (None, 128, 128, 32)      4640      \n",
            "                                                                 \n",
            " max_pooling2d_28 (MaxPoolin  (None, 64, 64, 32)       0         \n",
            " g2D)                                                            \n",
            "                                                                 \n",
            " dropout_28 (Dropout)        (None, 64, 64, 32)        0         \n",
            "                                                                 \n",
            " conv2d_29 (Conv2D)          (None, 64, 64, 16)        4624      \n",
            "                                                                 \n",
            " max_pooling2d_29 (MaxPoolin  (None, 32, 32, 16)       0         \n",
            " g2D)                                                            \n",
            "                                                                 \n",
            " dropout_29 (Dropout)        (None, 32, 32, 16)        0         \n",
            "                                                                 \n",
            " flatten_9 (Flatten)         (None, 16384)             0         \n",
            "                                                                 \n",
            " dense_18 (Dense)            (None, 32)                524320    \n",
            "                                                                 \n",
            " dense_19 (Dense)            (None, 4)                 132       \n",
            "                                                                 \n",
            "=================================================================\n",
            "Total params: 534,164\n",
            "Trainable params: 534,164\n",
            "Non-trainable params: 0\n",
            "_________________________________________________________________\n"
          ]
        }
      ]
    },
    {
      "cell_type": "markdown",
      "source": [
        "##train model with 150 epochs"
      ],
      "metadata": {
        "id": "SVS2HKjzmWbU"
      }
    },
    {
      "cell_type": "code",
      "source": [
        "model.compile(optimizer = 'adam', loss = tf.keras.losses.SparseCategoricalCrossentropy(from_logits = True), metrics = ['accuracy'])\n",
        "'''\n",
        "model.compile(\n",
        "    loss='sparse_categorical_crossentropy',\n",
        "    optimizer=keras.optimizers.Adam(learning_rate=1e-4),\n",
        "    metrics=['accuracy'],  run_eagerly=True\n",
        ")\n",
        "\n",
        "'''\n",
        "model.fit (\n",
        "    train_dataset, \n",
        "    validation_data = val_dataset,\n",
        "    epochs = 150\n",
        ")\n"
      ],
      "metadata": {
        "colab": {
          "base_uri": "https://localhost:8080/"
        },
        "id": "4CaGQFS2Hlk6",
        "outputId": "46716640-0e26-444c-d193-019c37063218"
      },
      "execution_count": 36,
      "outputs": [
        {
          "output_type": "stream",
          "name": "stdout",
          "text": [
            "Epoch 1/150\n"
          ]
        },
        {
          "output_type": "stream",
          "name": "stderr",
          "text": [
            "/usr/local/lib/python3.7/dist-packages/tensorflow/python/util/dispatch.py:1082: UserWarning: \"`sparse_categorical_crossentropy` received `from_logits=True`, but the `output` argument was produced by a sigmoid or softmax activation and thus does not represent logits. Was this intended?\"\n",
            "  return dispatch_target(*args, **kwargs)\n"
          ]
        },
        {
          "output_type": "stream",
          "name": "stdout",
          "text": [
            "23/23 [==============================] - 1s 21ms/step - loss: 1.5436 - accuracy: 0.3261 - val_loss: 1.3711 - val_accuracy: 0.4565\n",
            "Epoch 2/150\n",
            "23/23 [==============================] - 0s 10ms/step - loss: 1.3077 - accuracy: 0.4620 - val_loss: 1.3206 - val_accuracy: 0.4565\n",
            "Epoch 3/150\n",
            "23/23 [==============================] - 0s 10ms/step - loss: 1.2870 - accuracy: 0.4620 - val_loss: 1.3260 - val_accuracy: 0.4565\n",
            "Epoch 4/150\n",
            "23/23 [==============================] - 0s 10ms/step - loss: 1.2905 - accuracy: 0.4620 - val_loss: 1.3373 - val_accuracy: 0.4565\n",
            "Epoch 5/150\n",
            "23/23 [==============================] - 0s 10ms/step - loss: 1.2664 - accuracy: 0.4620 - val_loss: 1.2988 - val_accuracy: 0.4565\n",
            "Epoch 6/150\n",
            "23/23 [==============================] - 0s 10ms/step - loss: 1.2559 - accuracy: 0.4620 - val_loss: 1.3183 - val_accuracy: 0.4565\n",
            "Epoch 7/150\n",
            "23/23 [==============================] - 0s 10ms/step - loss: 1.2285 - accuracy: 0.4620 - val_loss: 1.2845 - val_accuracy: 0.4783\n",
            "Epoch 8/150\n",
            "23/23 [==============================] - 0s 10ms/step - loss: 1.1875 - accuracy: 0.4674 - val_loss: 1.2699 - val_accuracy: 0.4783\n",
            "Epoch 9/150\n",
            "23/23 [==============================] - 0s 10ms/step - loss: 1.1265 - accuracy: 0.4891 - val_loss: 1.1729 - val_accuracy: 0.5652\n",
            "Epoch 10/150\n",
            "23/23 [==============================] - 0s 10ms/step - loss: 0.9577 - accuracy: 0.5652 - val_loss: 1.1067 - val_accuracy: 0.5435\n",
            "Epoch 11/150\n",
            "23/23 [==============================] - 0s 10ms/step - loss: 0.8205 - accuracy: 0.6576 - val_loss: 0.9743 - val_accuracy: 0.6304\n",
            "Epoch 12/150\n",
            "23/23 [==============================] - 0s 10ms/step - loss: 0.6936 - accuracy: 0.7500 - val_loss: 0.8885 - val_accuracy: 0.6739\n",
            "Epoch 13/150\n",
            "23/23 [==============================] - 0s 10ms/step - loss: 0.6872 - accuracy: 0.7337 - val_loss: 0.9003 - val_accuracy: 0.6522\n",
            "Epoch 14/150\n",
            "23/23 [==============================] - 0s 10ms/step - loss: 0.6052 - accuracy: 0.8098 - val_loss: 0.7725 - val_accuracy: 0.8261\n",
            "Epoch 15/150\n",
            "23/23 [==============================] - 0s 10ms/step - loss: 0.3650 - accuracy: 0.8967 - val_loss: 0.7024 - val_accuracy: 0.7826\n",
            "Epoch 16/150\n",
            "23/23 [==============================] - 0s 10ms/step - loss: 0.2839 - accuracy: 0.9185 - val_loss: 0.6957 - val_accuracy: 0.8043\n",
            "Epoch 17/150\n",
            "23/23 [==============================] - 0s 10ms/step - loss: 0.2013 - accuracy: 0.9620 - val_loss: 0.5243 - val_accuracy: 0.8913\n",
            "Epoch 18/150\n",
            "23/23 [==============================] - 0s 10ms/step - loss: 0.2038 - accuracy: 0.9511 - val_loss: 0.5562 - val_accuracy: 0.8478\n",
            "Epoch 19/150\n",
            "23/23 [==============================] - 0s 10ms/step - loss: 0.1701 - accuracy: 0.9728 - val_loss: 0.8596 - val_accuracy: 0.8478\n",
            "Epoch 20/150\n",
            "23/23 [==============================] - 0s 10ms/step - loss: 0.1933 - accuracy: 0.9457 - val_loss: 0.7879 - val_accuracy: 0.8478\n",
            "Epoch 21/150\n",
            "23/23 [==============================] - 0s 10ms/step - loss: 0.2278 - accuracy: 0.9565 - val_loss: 0.3835 - val_accuracy: 0.8913\n",
            "Epoch 22/150\n",
            "23/23 [==============================] - 0s 10ms/step - loss: 0.0897 - accuracy: 0.9783 - val_loss: 0.5867 - val_accuracy: 0.8913\n",
            "Epoch 23/150\n",
            "23/23 [==============================] - 0s 10ms/step - loss: 0.2056 - accuracy: 0.9511 - val_loss: 0.4902 - val_accuracy: 0.8696\n",
            "Epoch 24/150\n",
            "23/23 [==============================] - 0s 10ms/step - loss: 0.2389 - accuracy: 0.9293 - val_loss: 0.8745 - val_accuracy: 0.7174\n",
            "Epoch 25/150\n",
            "23/23 [==============================] - 0s 10ms/step - loss: 0.1832 - accuracy: 0.9457 - val_loss: 0.7175 - val_accuracy: 0.8696\n",
            "Epoch 26/150\n",
            "23/23 [==============================] - 0s 11ms/step - loss: 0.1143 - accuracy: 0.9674 - val_loss: 0.6766 - val_accuracy: 0.8696\n",
            "Epoch 27/150\n",
            "23/23 [==============================] - 0s 10ms/step - loss: 0.0607 - accuracy: 0.9891 - val_loss: 0.5721 - val_accuracy: 0.8696\n",
            "Epoch 28/150\n",
            "23/23 [==============================] - 0s 12ms/step - loss: 0.0439 - accuracy: 0.9891 - val_loss: 0.5375 - val_accuracy: 0.8696\n",
            "Epoch 29/150\n",
            "23/23 [==============================] - 0s 10ms/step - loss: 0.0293 - accuracy: 0.9891 - val_loss: 0.5234 - val_accuracy: 0.8913\n",
            "Epoch 30/150\n",
            "23/23 [==============================] - 0s 10ms/step - loss: 0.0270 - accuracy: 0.9891 - val_loss: 0.5313 - val_accuracy: 0.9130\n",
            "Epoch 31/150\n",
            "23/23 [==============================] - 0s 10ms/step - loss: 0.0145 - accuracy: 1.0000 - val_loss: 0.5283 - val_accuracy: 0.9130\n",
            "Epoch 32/150\n",
            "23/23 [==============================] - 0s 10ms/step - loss: 0.0135 - accuracy: 1.0000 - val_loss: 0.4945 - val_accuracy: 0.9130\n",
            "Epoch 33/150\n",
            "23/23 [==============================] - 0s 10ms/step - loss: 0.0167 - accuracy: 0.9946 - val_loss: 0.4792 - val_accuracy: 0.9130\n",
            "Epoch 34/150\n",
            "23/23 [==============================] - 0s 10ms/step - loss: 0.0150 - accuracy: 1.0000 - val_loss: 0.5629 - val_accuracy: 0.9130\n",
            "Epoch 35/150\n",
            "23/23 [==============================] - 0s 10ms/step - loss: 0.0231 - accuracy: 0.9891 - val_loss: 0.5628 - val_accuracy: 0.9130\n",
            "Epoch 36/150\n",
            "23/23 [==============================] - 0s 10ms/step - loss: 0.0209 - accuracy: 0.9946 - val_loss: 0.5350 - val_accuracy: 0.9130\n",
            "Epoch 37/150\n",
            "23/23 [==============================] - 0s 10ms/step - loss: 0.0060 - accuracy: 1.0000 - val_loss: 0.6195 - val_accuracy: 0.9130\n",
            "Epoch 38/150\n",
            "23/23 [==============================] - 0s 10ms/step - loss: 0.0038 - accuracy: 1.0000 - val_loss: 0.3991 - val_accuracy: 0.9565\n",
            "Epoch 39/150\n",
            "23/23 [==============================] - 0s 10ms/step - loss: 0.0047 - accuracy: 1.0000 - val_loss: 0.4421 - val_accuracy: 0.9130\n",
            "Epoch 40/150\n",
            "23/23 [==============================] - 0s 10ms/step - loss: 0.0039 - accuracy: 1.0000 - val_loss: 0.3935 - val_accuracy: 0.9565\n",
            "Epoch 41/150\n",
            "23/23 [==============================] - 0s 9ms/step - loss: 0.0113 - accuracy: 0.9946 - val_loss: 0.8656 - val_accuracy: 0.8696\n",
            "Epoch 42/150\n",
            "23/23 [==============================] - 0s 10ms/step - loss: 0.0354 - accuracy: 0.9946 - val_loss: 0.4090 - val_accuracy: 0.9565\n",
            "Epoch 43/150\n",
            "23/23 [==============================] - 0s 10ms/step - loss: 0.0195 - accuracy: 0.9891 - val_loss: 0.4739 - val_accuracy: 0.9130\n",
            "Epoch 44/150\n",
            "23/23 [==============================] - 0s 10ms/step - loss: 0.0100 - accuracy: 1.0000 - val_loss: 0.8005 - val_accuracy: 0.8913\n",
            "Epoch 45/150\n",
            "23/23 [==============================] - 0s 9ms/step - loss: 0.0986 - accuracy: 0.9783 - val_loss: 0.5446 - val_accuracy: 0.8478\n",
            "Epoch 46/150\n",
            "23/23 [==============================] - 0s 10ms/step - loss: 0.1248 - accuracy: 0.9511 - val_loss: 0.7760 - val_accuracy: 0.9130\n",
            "Epoch 47/150\n",
            "23/23 [==============================] - 0s 10ms/step - loss: 0.1518 - accuracy: 0.9674 - val_loss: 0.8210 - val_accuracy: 0.8261\n",
            "Epoch 48/150\n",
            "23/23 [==============================] - 0s 9ms/step - loss: 0.1889 - accuracy: 0.9565 - val_loss: 0.7162 - val_accuracy: 0.8913\n",
            "Epoch 49/150\n",
            "23/23 [==============================] - 0s 10ms/step - loss: 0.1084 - accuracy: 0.9565 - val_loss: 0.5506 - val_accuracy: 0.9348\n",
            "Epoch 50/150\n",
            "23/23 [==============================] - 0s 10ms/step - loss: 0.0274 - accuracy: 0.9946 - val_loss: 0.4715 - val_accuracy: 0.9565\n",
            "Epoch 51/150\n",
            "23/23 [==============================] - 0s 9ms/step - loss: 0.0133 - accuracy: 0.9946 - val_loss: 0.4867 - val_accuracy: 0.9565\n",
            "Epoch 52/150\n",
            "23/23 [==============================] - 0s 10ms/step - loss: 0.0065 - accuracy: 1.0000 - val_loss: 0.5125 - val_accuracy: 0.9565\n",
            "Epoch 53/150\n",
            "23/23 [==============================] - 0s 10ms/step - loss: 0.0036 - accuracy: 1.0000 - val_loss: 0.5106 - val_accuracy: 0.9565\n",
            "Epoch 54/150\n",
            "23/23 [==============================] - 0s 10ms/step - loss: 0.0063 - accuracy: 1.0000 - val_loss: 0.5160 - val_accuracy: 0.9565\n",
            "Epoch 55/150\n",
            "23/23 [==============================] - 0s 10ms/step - loss: 0.0047 - accuracy: 1.0000 - val_loss: 0.5089 - val_accuracy: 0.9565\n",
            "Epoch 56/150\n",
            "23/23 [==============================] - 0s 10ms/step - loss: 0.0025 - accuracy: 1.0000 - val_loss: 0.5219 - val_accuracy: 0.9565\n",
            "Epoch 57/150\n",
            "23/23 [==============================] - 0s 10ms/step - loss: 0.0025 - accuracy: 1.0000 - val_loss: 0.5380 - val_accuracy: 0.9565\n",
            "Epoch 58/150\n",
            "23/23 [==============================] - 0s 10ms/step - loss: 0.0011 - accuracy: 1.0000 - val_loss: 0.5499 - val_accuracy: 0.9565\n",
            "Epoch 59/150\n",
            "23/23 [==============================] - 0s 10ms/step - loss: 0.0012 - accuracy: 1.0000 - val_loss: 0.5447 - val_accuracy: 0.9565\n",
            "Epoch 60/150\n",
            "23/23 [==============================] - 0s 10ms/step - loss: 0.0016 - accuracy: 1.0000 - val_loss: 0.5292 - val_accuracy: 0.9565\n",
            "Epoch 61/150\n",
            "23/23 [==============================] - 0s 9ms/step - loss: 0.0018 - accuracy: 1.0000 - val_loss: 0.5078 - val_accuracy: 0.9565\n",
            "Epoch 62/150\n",
            "23/23 [==============================] - 0s 10ms/step - loss: 0.0010 - accuracy: 1.0000 - val_loss: 0.5080 - val_accuracy: 0.9565\n",
            "Epoch 63/150\n",
            "23/23 [==============================] - 0s 10ms/step - loss: 0.0011 - accuracy: 1.0000 - val_loss: 0.5055 - val_accuracy: 0.9565\n",
            "Epoch 64/150\n",
            "23/23 [==============================] - 0s 10ms/step - loss: 0.0013 - accuracy: 1.0000 - val_loss: 0.5083 - val_accuracy: 0.9565\n",
            "Epoch 65/150\n",
            "23/23 [==============================] - 0s 10ms/step - loss: 0.0020 - accuracy: 1.0000 - val_loss: 0.5137 - val_accuracy: 0.9565\n",
            "Epoch 66/150\n",
            "23/23 [==============================] - 0s 10ms/step - loss: 0.0016 - accuracy: 1.0000 - val_loss: 0.5247 - val_accuracy: 0.9565\n",
            "Epoch 67/150\n",
            "23/23 [==============================] - 0s 10ms/step - loss: 0.0012 - accuracy: 1.0000 - val_loss: 0.5387 - val_accuracy: 0.9565\n",
            "Epoch 68/150\n",
            "23/23 [==============================] - 0s 9ms/step - loss: 7.4051e-04 - accuracy: 1.0000 - val_loss: 0.5457 - val_accuracy: 0.9565\n",
            "Epoch 69/150\n",
            "23/23 [==============================] - 0s 10ms/step - loss: 0.0018 - accuracy: 1.0000 - val_loss: 0.5390 - val_accuracy: 0.9565\n",
            "Epoch 70/150\n",
            "23/23 [==============================] - 0s 10ms/step - loss: 0.0018 - accuracy: 1.0000 - val_loss: 0.4926 - val_accuracy: 0.9565\n",
            "Epoch 71/150\n",
            "23/23 [==============================] - 0s 10ms/step - loss: 0.0013 - accuracy: 1.0000 - val_loss: 0.4515 - val_accuracy: 0.9565\n",
            "Epoch 72/150\n",
            "23/23 [==============================] - 0s 10ms/step - loss: 0.0014 - accuracy: 1.0000 - val_loss: 0.5088 - val_accuracy: 0.9565\n",
            "Epoch 73/150\n",
            "23/23 [==============================] - 0s 9ms/step - loss: 0.1601 - accuracy: 0.9728 - val_loss: 0.5257 - val_accuracy: 0.8261\n",
            "Epoch 74/150\n",
            "23/23 [==============================] - 0s 9ms/step - loss: 0.2331 - accuracy: 0.9402 - val_loss: 0.8047 - val_accuracy: 0.8261\n",
            "Epoch 75/150\n",
            "23/23 [==============================] - 0s 10ms/step - loss: 0.1777 - accuracy: 0.9457 - val_loss: 0.3929 - val_accuracy: 0.8478\n",
            "Epoch 76/150\n",
            "23/23 [==============================] - 0s 10ms/step - loss: 0.0652 - accuracy: 0.9837 - val_loss: 0.2388 - val_accuracy: 0.9565\n",
            "Epoch 77/150\n",
            "23/23 [==============================] - 0s 10ms/step - loss: 0.0721 - accuracy: 0.9783 - val_loss: 0.2645 - val_accuracy: 0.9565\n",
            "Epoch 78/150\n",
            "23/23 [==============================] - 0s 9ms/step - loss: 0.0465 - accuracy: 0.9946 - val_loss: 0.3842 - val_accuracy: 0.8913\n",
            "Epoch 79/150\n",
            "23/23 [==============================] - 0s 10ms/step - loss: 0.0634 - accuracy: 0.9728 - val_loss: 0.2553 - val_accuracy: 0.9348\n",
            "Epoch 80/150\n",
            "23/23 [==============================] - 0s 10ms/step - loss: 0.0139 - accuracy: 0.9946 - val_loss: 0.3444 - val_accuracy: 0.9348\n",
            "Epoch 81/150\n",
            "23/23 [==============================] - 0s 10ms/step - loss: 0.0097 - accuracy: 1.0000 - val_loss: 0.2122 - val_accuracy: 0.9565\n",
            "Epoch 82/150\n",
            "23/23 [==============================] - 0s 9ms/step - loss: 0.0068 - accuracy: 1.0000 - val_loss: 0.2242 - val_accuracy: 0.9565\n",
            "Epoch 83/150\n",
            "23/23 [==============================] - 0s 10ms/step - loss: 0.0037 - accuracy: 1.0000 - val_loss: 0.2287 - val_accuracy: 0.9565\n",
            "Epoch 84/150\n",
            "23/23 [==============================] - 0s 10ms/step - loss: 0.0019 - accuracy: 1.0000 - val_loss: 0.2363 - val_accuracy: 0.9565\n",
            "Epoch 85/150\n",
            "23/23 [==============================] - 0s 10ms/step - loss: 0.0027 - accuracy: 1.0000 - val_loss: 0.2472 - val_accuracy: 0.9565\n",
            "Epoch 86/150\n",
            "23/23 [==============================] - 0s 10ms/step - loss: 0.0022 - accuracy: 1.0000 - val_loss: 0.2334 - val_accuracy: 0.9565\n",
            "Epoch 87/150\n",
            "23/23 [==============================] - 0s 10ms/step - loss: 0.0014 - accuracy: 1.0000 - val_loss: 0.2268 - val_accuracy: 0.9565\n",
            "Epoch 88/150\n",
            "23/23 [==============================] - 0s 10ms/step - loss: 0.0012 - accuracy: 1.0000 - val_loss: 0.2319 - val_accuracy: 0.9565\n",
            "Epoch 89/150\n",
            "23/23 [==============================] - 0s 10ms/step - loss: 6.6971e-04 - accuracy: 1.0000 - val_loss: 0.2419 - val_accuracy: 0.9565\n",
            "Epoch 90/150\n",
            "23/23 [==============================] - 0s 10ms/step - loss: 0.0029 - accuracy: 1.0000 - val_loss: 0.1981 - val_accuracy: 0.9565\n",
            "Epoch 91/150\n",
            "23/23 [==============================] - 0s 10ms/step - loss: 0.0262 - accuracy: 0.9891 - val_loss: 0.3508 - val_accuracy: 0.9565\n",
            "Epoch 92/150\n",
            "23/23 [==============================] - 0s 10ms/step - loss: 0.0055 - accuracy: 1.0000 - val_loss: 0.3614 - val_accuracy: 0.9565\n",
            "Epoch 93/150\n",
            "23/23 [==============================] - 0s 9ms/step - loss: 0.0026 - accuracy: 1.0000 - val_loss: 0.3585 - val_accuracy: 0.9565\n",
            "Epoch 94/150\n",
            "23/23 [==============================] - 0s 10ms/step - loss: 0.0011 - accuracy: 1.0000 - val_loss: 0.3794 - val_accuracy: 0.9565\n",
            "Epoch 95/150\n",
            "23/23 [==============================] - 0s 10ms/step - loss: 0.0010 - accuracy: 1.0000 - val_loss: 0.3801 - val_accuracy: 0.9565\n",
            "Epoch 96/150\n",
            "23/23 [==============================] - 0s 10ms/step - loss: 9.7109e-04 - accuracy: 1.0000 - val_loss: 0.3778 - val_accuracy: 0.9565\n",
            "Epoch 97/150\n",
            "23/23 [==============================] - 0s 10ms/step - loss: 0.0028 - accuracy: 1.0000 - val_loss: 0.3686 - val_accuracy: 0.9565\n",
            "Epoch 98/150\n",
            "23/23 [==============================] - 0s 10ms/step - loss: 0.0045 - accuracy: 0.9946 - val_loss: 0.3483 - val_accuracy: 0.9565\n",
            "Epoch 99/150\n",
            "23/23 [==============================] - 0s 10ms/step - loss: 0.0015 - accuracy: 1.0000 - val_loss: 0.3641 - val_accuracy: 0.9565\n",
            "Epoch 100/150\n",
            "23/23 [==============================] - 0s 10ms/step - loss: 0.0014 - accuracy: 1.0000 - val_loss: 0.3691 - val_accuracy: 0.9565\n",
            "Epoch 101/150\n",
            "23/23 [==============================] - 0s 10ms/step - loss: 0.0014 - accuracy: 1.0000 - val_loss: 0.3616 - val_accuracy: 0.9565\n",
            "Epoch 102/150\n",
            "23/23 [==============================] - 0s 10ms/step - loss: 7.0345e-04 - accuracy: 1.0000 - val_loss: 0.3633 - val_accuracy: 0.9565\n",
            "Epoch 103/150\n",
            "23/23 [==============================] - 0s 10ms/step - loss: 5.0592e-04 - accuracy: 1.0000 - val_loss: 0.3732 - val_accuracy: 0.9565\n",
            "Epoch 104/150\n",
            "23/23 [==============================] - 0s 10ms/step - loss: 5.3473e-04 - accuracy: 1.0000 - val_loss: 0.3780 - val_accuracy: 0.9565\n",
            "Epoch 105/150\n",
            "23/23 [==============================] - 0s 10ms/step - loss: 4.9035e-04 - accuracy: 1.0000 - val_loss: 0.3838 - val_accuracy: 0.9565\n",
            "Epoch 106/150\n",
            "23/23 [==============================] - 0s 10ms/step - loss: 3.3108e-04 - accuracy: 1.0000 - val_loss: 0.3850 - val_accuracy: 0.9565\n",
            "Epoch 107/150\n",
            "23/23 [==============================] - 0s 10ms/step - loss: 7.2591e-04 - accuracy: 1.0000 - val_loss: 0.3131 - val_accuracy: 0.9565\n",
            "Epoch 108/150\n",
            "23/23 [==============================] - 0s 9ms/step - loss: 3.5183e-04 - accuracy: 1.0000 - val_loss: 0.3036 - val_accuracy: 0.9565\n",
            "Epoch 109/150\n",
            "23/23 [==============================] - 0s 10ms/step - loss: 1.6531e-04 - accuracy: 1.0000 - val_loss: 0.3047 - val_accuracy: 0.9565\n",
            "Epoch 110/150\n",
            "23/23 [==============================] - 0s 10ms/step - loss: 8.6673e-04 - accuracy: 1.0000 - val_loss: 0.3012 - val_accuracy: 0.9565\n",
            "Epoch 111/150\n",
            "23/23 [==============================] - 0s 10ms/step - loss: 2.3115e-04 - accuracy: 1.0000 - val_loss: 0.2959 - val_accuracy: 0.9565\n",
            "Epoch 112/150\n",
            "23/23 [==============================] - 0s 10ms/step - loss: 8.4347e-04 - accuracy: 1.0000 - val_loss: 0.2557 - val_accuracy: 0.9565\n",
            "Epoch 113/150\n",
            "23/23 [==============================] - 0s 9ms/step - loss: 1.5548e-04 - accuracy: 1.0000 - val_loss: 0.2554 - val_accuracy: 0.9565\n",
            "Epoch 114/150\n",
            "23/23 [==============================] - 0s 10ms/step - loss: 3.6403e-04 - accuracy: 1.0000 - val_loss: 0.2772 - val_accuracy: 0.9565\n",
            "Epoch 115/150\n",
            "23/23 [==============================] - 0s 10ms/step - loss: 1.9857e-04 - accuracy: 1.0000 - val_loss: 0.3109 - val_accuracy: 0.9565\n",
            "Epoch 116/150\n",
            "23/23 [==============================] - 0s 10ms/step - loss: 3.0250e-04 - accuracy: 1.0000 - val_loss: 0.3406 - val_accuracy: 0.9565\n",
            "Epoch 117/150\n",
            "23/23 [==============================] - 0s 10ms/step - loss: 1.2089e-04 - accuracy: 1.0000 - val_loss: 0.3503 - val_accuracy: 0.9565\n",
            "Epoch 118/150\n",
            "23/23 [==============================] - 0s 10ms/step - loss: 1.2092e-04 - accuracy: 1.0000 - val_loss: 0.3547 - val_accuracy: 0.9565\n",
            "Epoch 119/150\n",
            "23/23 [==============================] - 0s 9ms/step - loss: 0.0013 - accuracy: 1.0000 - val_loss: 0.4155 - val_accuracy: 0.9565\n",
            "Epoch 120/150\n",
            "23/23 [==============================] - 0s 9ms/step - loss: 0.0011 - accuracy: 1.0000 - val_loss: 0.3455 - val_accuracy: 0.9565\n",
            "Epoch 121/150\n",
            "23/23 [==============================] - 0s 9ms/step - loss: 0.0011 - accuracy: 1.0000 - val_loss: 0.2825 - val_accuracy: 0.9565\n",
            "Epoch 122/150\n",
            "23/23 [==============================] - 0s 10ms/step - loss: 1.5539e-04 - accuracy: 1.0000 - val_loss: 0.2526 - val_accuracy: 0.9565\n",
            "Epoch 123/150\n",
            "23/23 [==============================] - 0s 10ms/step - loss: 2.1739e-04 - accuracy: 1.0000 - val_loss: 0.2565 - val_accuracy: 0.9565\n",
            "Epoch 124/150\n",
            "23/23 [==============================] - 0s 10ms/step - loss: 1.3483e-04 - accuracy: 1.0000 - val_loss: 0.2621 - val_accuracy: 0.9565\n",
            "Epoch 125/150\n",
            "23/23 [==============================] - 0s 10ms/step - loss: 4.0355e-04 - accuracy: 1.0000 - val_loss: 0.2895 - val_accuracy: 0.9565\n",
            "Epoch 126/150\n",
            "23/23 [==============================] - 0s 10ms/step - loss: 0.0539 - accuracy: 0.9783 - val_loss: 0.7609 - val_accuracy: 0.8043\n",
            "Epoch 127/150\n",
            "23/23 [==============================] - 0s 10ms/step - loss: 0.6627 - accuracy: 0.8913 - val_loss: 0.4190 - val_accuracy: 0.8478\n",
            "Epoch 128/150\n",
            "23/23 [==============================] - 0s 9ms/step - loss: 0.2105 - accuracy: 0.9620 - val_loss: 0.2626 - val_accuracy: 0.8913\n",
            "Epoch 129/150\n",
            "23/23 [==============================] - 0s 10ms/step - loss: 0.0299 - accuracy: 0.9946 - val_loss: 0.0742 - val_accuracy: 1.0000\n",
            "Epoch 130/150\n",
            "23/23 [==============================] - 0s 9ms/step - loss: 0.0437 - accuracy: 0.9837 - val_loss: 0.2449 - val_accuracy: 0.9130\n",
            "Epoch 131/150\n",
            "23/23 [==============================] - 0s 9ms/step - loss: 0.0962 - accuracy: 0.9837 - val_loss: 0.1644 - val_accuracy: 1.0000\n",
            "Epoch 132/150\n",
            "23/23 [==============================] - 0s 10ms/step - loss: 0.0757 - accuracy: 0.9891 - val_loss: 0.1869 - val_accuracy: 0.8913\n",
            "Epoch 133/150\n",
            "23/23 [==============================] - 0s 9ms/step - loss: 0.0238 - accuracy: 0.9946 - val_loss: 0.0992 - val_accuracy: 0.9565\n",
            "Epoch 134/150\n",
            "23/23 [==============================] - 0s 9ms/step - loss: 0.0073 - accuracy: 1.0000 - val_loss: 0.0642 - val_accuracy: 0.9565\n",
            "Epoch 135/150\n",
            "23/23 [==============================] - 0s 10ms/step - loss: 0.0091 - accuracy: 0.9946 - val_loss: 0.3732 - val_accuracy: 0.9565\n",
            "Epoch 136/150\n",
            "23/23 [==============================] - 0s 10ms/step - loss: 0.0836 - accuracy: 0.9837 - val_loss: 0.1317 - val_accuracy: 0.9783\n",
            "Epoch 137/150\n",
            "23/23 [==============================] - 0s 10ms/step - loss: 0.0209 - accuracy: 1.0000 - val_loss: 0.1078 - val_accuracy: 0.9565\n",
            "Epoch 138/150\n",
            "23/23 [==============================] - 0s 9ms/step - loss: 0.0047 - accuracy: 1.0000 - val_loss: 0.0937 - val_accuracy: 0.9565\n",
            "Epoch 139/150\n",
            "23/23 [==============================] - 0s 9ms/step - loss: 0.0013 - accuracy: 1.0000 - val_loss: 0.0970 - val_accuracy: 0.9565\n",
            "Epoch 140/150\n",
            "23/23 [==============================] - 0s 9ms/step - loss: 0.0016 - accuracy: 1.0000 - val_loss: 0.0999 - val_accuracy: 0.9565\n",
            "Epoch 141/150\n",
            "23/23 [==============================] - 0s 10ms/step - loss: 0.0024 - accuracy: 1.0000 - val_loss: 0.1113 - val_accuracy: 0.9565\n",
            "Epoch 142/150\n",
            "23/23 [==============================] - 0s 10ms/step - loss: 0.0010 - accuracy: 1.0000 - val_loss: 0.0923 - val_accuracy: 0.9565\n",
            "Epoch 143/150\n",
            "23/23 [==============================] - 0s 10ms/step - loss: 5.6644e-04 - accuracy: 1.0000 - val_loss: 0.0903 - val_accuracy: 0.9565\n",
            "Epoch 144/150\n",
            "23/23 [==============================] - 0s 10ms/step - loss: 4.0397e-04 - accuracy: 1.0000 - val_loss: 0.0917 - val_accuracy: 0.9565\n",
            "Epoch 145/150\n",
            "23/23 [==============================] - 0s 11ms/step - loss: 7.7422e-04 - accuracy: 1.0000 - val_loss: 0.1115 - val_accuracy: 0.9565\n",
            "Epoch 146/150\n",
            "23/23 [==============================] - 0s 10ms/step - loss: 6.1612e-04 - accuracy: 1.0000 - val_loss: 0.0930 - val_accuracy: 0.9565\n",
            "Epoch 147/150\n",
            "23/23 [==============================] - 0s 10ms/step - loss: 0.0017 - accuracy: 1.0000 - val_loss: 0.0665 - val_accuracy: 0.9565\n",
            "Epoch 148/150\n",
            "23/23 [==============================] - 0s 10ms/step - loss: 4.0187e-04 - accuracy: 1.0000 - val_loss: 0.0500 - val_accuracy: 0.9565\n",
            "Epoch 149/150\n",
            "23/23 [==============================] - 0s 10ms/step - loss: 6.1688e-04 - accuracy: 1.0000 - val_loss: 0.0411 - val_accuracy: 0.9565\n",
            "Epoch 150/150\n",
            "23/23 [==============================] - 0s 10ms/step - loss: 3.5247e-04 - accuracy: 1.0000 - val_loss: 0.0517 - val_accuracy: 0.9565\n"
          ]
        },
        {
          "output_type": "execute_result",
          "data": {
            "text/plain": [
              "<keras.callbacks.History at 0x7eff4ae85350>"
            ]
          },
          "metadata": {},
          "execution_count": 36
        }
      ]
    },
    {
      "cell_type": "markdown",
      "source": [
        "##visualize train and validation loss and accuracy curves"
      ],
      "metadata": {
        "id": "K_bC_SbYmdUq"
      }
    },
    {
      "cell_type": "code",
      "source": [
        "loss = pd.DataFrame(model.history.history)\n",
        "\n",
        "#plotting the loss and accuracy \n",
        "plt.figure(figsize=(10,10))\n",
        "\n",
        "plt.subplot(2,2,1)\n",
        "plt.plot(loss[\"loss\"], label =\"Loss\")\n",
        "plt.plot(loss[\"val_loss\"], label = \"Validation_loss\")\n",
        "plt.legend()\n",
        "plt.title(\"Training and Validation Loss\")\n",
        "\n",
        "plt.subplot(2,2,2)\n",
        "plt.plot(loss['accuracy'],label = \"Training Accuracy\")\n",
        "plt.plot(loss['val_accuracy'], label =\"Validation_ Accuracy \")\n",
        "plt.legend()\n",
        "plt.title(\"Training-Validation Accuracy\")"
      ],
      "metadata": {
        "colab": {
          "base_uri": "https://localhost:8080/",
          "height": 328
        },
        "id": "JvWzB_usAAvy",
        "outputId": "589c07d4-2eac-4c02-a88c-268a1ca67ee8"
      },
      "execution_count": 37,
      "outputs": [
        {
          "output_type": "execute_result",
          "data": {
            "text/plain": [
              "Text(0.5, 1.0, 'Training-Validation Accuracy')"
            ]
          },
          "metadata": {},
          "execution_count": 37
        },
        {
          "output_type": "display_data",
          "data": {
            "text/plain": [
              "<Figure size 720x720 with 2 Axes>"
            ],
            "image/png": "[encoded data removed]"
          },
          "metadata": {
            "needs_background": "light"
          }
        }
      ]
    },
    {
      "cell_type": "markdown",
      "source": [
        "#save model as .h5 model for convenient mobile app deployment "
      ],
      "metadata": {
        "id": "lBtZzn4796LT"
      }
    },
    {
      "cell_type": "code",
      "source": [
        "model.save('model.h5')\n",
        "\n",
        "\n",
        "#save to drive as h5 model tensorflow model\n",
        "model_to_be_saved=\"cleansea_model\" \n",
        "\n",
        "model.save('/content/drive/MyDrive/saved_models/'+model_to_be_saved+'.h5')\n"
      ],
      "metadata": {
        "id": "JinQv_JF94Ha"
      },
      "execution_count": 50,
      "outputs": []
    }
  ]
}