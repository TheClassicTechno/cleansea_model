{
  "nbformat": 4,
  "nbformat_minor": 0,
  "metadata": {
    "colab": {
      "name": "Taco Custom Dataset CNN Model Final",
      "provenance": [],
      "machine_shape": "hm",
      "background_execution": "on",
      "collapsed_sections": [],
      "authorship_tag": "ABX9TyNwErykIL9vv8b/kelAEaKc",
      "include_colab_link": true
    },
    "kernelspec": {
      "name": "python3",
      "display_name": "Python 3"
    },
    "language_info": {
      "name": "python"
    },
    "accelerator": "GPU",
    "gpuClass": "standard"
  },
  "cells": [
    {
      "cell_type": "markdown",
      "metadata": {
        "id": "view-in-github",
        "colab_type": "text"
      },
      "source": [
        "<a href=\"https://colab.research.google.com/github/TheClassicTechno/cleansea_model/blob/main/surreal_version/Taco_Custom_Dataset_CNN_Model_Final.ipynb\" target=\"_parent\"><img src=\"https://colab.research.google.com/assets/colab-badge.svg\" alt=\"Open In Colab\"/></a>"
      ]
    },
    {
      "cell_type": "markdown",
      "source": [
        "#Taco Revised Dataset CNN Model\n",
        "\n",
        "achieved >95% accuracy consistently on the Taco Custom Dataset."
      ],
      "metadata": {
        "id": "0i54wSuEld8_"
      }
    },
    {
      "cell_type": "markdown",
      "source": [
        "##mount drive to access dataset"
      ],
      "metadata": {
        "id": "HxLRhOO0lpif"
      }
    },
    {
      "cell_type": "code",
      "source": [
        "from google.colab import drive\n",
        "drive.mount('/content/drive')"
      ],
      "metadata": {
        "colab": {
          "base_uri": "https://localhost:8080/"
        },
        "id": "A6i0R_D6Gk89",
        "outputId": "02debda6-6e94-45de-dafe-879602f70eba"
      },
      "execution_count": 11,
      "outputs": [
        {
          "output_type": "stream",
          "name": "stdout",
          "text": [
            "Drive already mounted at /content/drive; to attempt to forcibly remount, call drive.mount(\"/content/drive\", force_remount=True).\n"
          ]
        }
      ]
    },
    {
      "cell_type": "markdown",
      "source": [
        "##import necessary libraries"
      ],
      "metadata": {
        "id": "Jf6mLAr-lsSa"
      }
    },
    {
      "cell_type": "code",
      "execution_count": 12,
      "metadata": {
        "id": "UmfB3Q5xGXAy"
      },
      "outputs": [],
      "source": [
        "from tensorflow import keras\n",
        "from tensorflow.keras import layers\n",
        "from tensorflow.keras.models import Sequential\n",
        "import pandas as pd\n",
        "import numpy as np\n",
        "import tensorflow as tf\n",
        "import os\n",
        "import matplotlib.pyplot as plt\n",
        "import pathlib\n",
        "import cv2\n",
        "import glob\n",
        "\n",
        "\n"
      ]
    },
    {
      "cell_type": "markdown",
      "source": [
        "##accessing paths of all 4 debris types + split entire Taco Dataset into train and validation 80-20 split"
      ],
      "metadata": {
        "id": "UkAsKwFLl6yN"
      }
    },
    {
      "cell_type": "code",
      "source": [
        "#processing images\n",
        "bottles1 = '/content/drive/MyDrive/TEAM9SURESTART/taco/bottles'\n",
        "cans1 = '/content/drive/MyDrive/TEAM9SURESTART/taco/cans'\n",
        "containers1 = '/content/drive/MyDrive/TEAM9SURESTART/taco/containers'\n",
        "#paper1 = '/content/drive/MyDrive/TEAM9SURESTART/taco/paper'\n",
        "plastic1 = '/content/drive/MyDrive/TEAM9SURESTART/taco/plastic'\n",
        "\n",
        "bottles = [cv2.imread(image) for image in glob.glob(bottles1)]\n",
        "cans = [cv2.imread(image) for image in glob.glob(cans1)]\n",
        "containers = [cv2.imread(image) for image in glob.glob(containers1)]\n",
        "#paper = [cv2.imread(image) for image in glob.glob(paper1)]\n",
        "plastic = [cv2.imread(image) for image in glob.glob(plastic1)]\n",
        "\n",
        "train_dataset = tf.keras.utils.image_dataset_from_directory(\n",
        "    '/content/drive/MyDrive/TEAM9SURESTART/taco',\n",
        "    validation_split = 0.2,\n",
        "    subset = \"training\",\n",
        "    seed = 24,  \n",
        "    image_size = (256, 256),\n",
        "    batch_size = 8\n",
        ")\n",
        "\n",
        "val_dataset = tf.keras.utils.image_dataset_from_directory(\n",
        "    '/content/drive/MyDrive/TEAM9SURESTART/taco',\n",
        "    validation_split = 0.2,\n",
        "    subset = \"validation\",\n",
        "    seed = 24,  \n",
        "    image_size = (256, 256),\n",
        "    batch_size = 8\n",
        ")\n",
        "\n",
        "\n",
        "\n",
        "\n",
        "\n",
        "train_dataset = train_dataset.cache().shuffle(13).prefetch(buffer_size = tf.data.AUTOTUNE)\n",
        "val_dataset = val_dataset.cache().shuffle(13).prefetch(buffer_size = tf.data.AUTOTUNE)\n"
      ],
      "metadata": {
        "colab": {
          "base_uri": "https://localhost:8080/"
        },
        "id": "ULsUt1M8MwrO",
        "outputId": "d41f03a5-6d7c-4435-e578-1d1cacdb9103"
      },
      "execution_count": 26,
      "outputs": [
        {
          "output_type": "stream",
          "name": "stdout",
          "text": [
            "Found 230 files belonging to 4 classes.\n",
            "Using 184 files for training.\n",
            "Found 230 files belonging to 4 classes.\n",
            "Using 46 files for validation.\n",
            "Model: \"sequential_15\"\n",
            "_________________________________________________________________\n",
            " Layer (type)                Output Shape              Param #   \n",
            "=================================================================\n",
            " rescaling_7 (Rescaling)     (None, 256, 256, 3)       0         \n",
            "                                                                 \n",
            " conv2d_21 (Conv2D)          (None, 256, 256, 16)      448       \n",
            "                                                                 \n",
            " max_pooling2d_21 (MaxPoolin  (None, 128, 128, 16)     0         \n",
            " g2D)                                                            \n",
            "                                                                 \n",
            " dropout_21 (Dropout)        (None, 128, 128, 16)      0         \n",
            "                                                                 \n",
            " conv2d_22 (Conv2D)          (None, 128, 128, 32)      4640      \n",
            "                                                                 \n",
            " max_pooling2d_22 (MaxPoolin  (None, 64, 64, 32)       0         \n",
            " g2D)                                                            \n",
            "                                                                 \n",
            " dropout_22 (Dropout)        (None, 64, 64, 32)        0         \n",
            "                                                                 \n",
            " conv2d_23 (Conv2D)          (None, 64, 64, 16)        4624      \n",
            "                                                                 \n",
            " max_pooling2d_23 (MaxPoolin  (None, 32, 32, 16)       0         \n",
            " g2D)                                                            \n",
            "                                                                 \n",
            " dropout_23 (Dropout)        (None, 32, 32, 16)        0         \n",
            "                                                                 \n",
            " flatten_7 (Flatten)         (None, 16384)             0         \n",
            "                                                                 \n",
            " dense_14 (Dense)            (None, 32)                524320    \n",
            "                                                                 \n",
            " dense_15 (Dense)            (None, 4)                 132       \n",
            "                                                                 \n",
            "=================================================================\n",
            "Total params: 534,164\n",
            "Trainable params: 534,164\n",
            "Non-trainable params: 0\n",
            "_________________________________________________________________\n"
          ]
        }
      ]
    },
    {
      "cell_type": "markdown",
      "source": [
        "##model architecture\n",
        "\n",
        "###includes rescaling of input image shapes"
      ],
      "metadata": {
        "id": "8O4u8a0WmOkD"
      }
    },
    {
      "cell_type": "code",
      "source": [
        "data_augmentation = tf.keras.Sequential([\n",
        "  layers.RandomFlip(\"horizontal_and_vertical\"),\n",
        "  layers.RandomRotation(0.9),\n",
        "])\n",
        "model = Sequential ([\n",
        "    #try add augmentations here\n",
        "    #layers.RandomFlip(\"horizontal_and_vertical\"),\n",
        "    #layers.RandomRotation(0.2),\n",
        "    \n",
        "    layers.Rescaling(1./255, input_shape = (256, 256, 3)),\n",
        "    #data_augmentation,\n",
        "    layers.Conv2D(16, 3, padding = 'same', activation = 'relu'),\n",
        "    layers.MaxPooling2D(),\n",
        "    layers.Dropout(0.3),\n",
        "    layers.Conv2D(32, 3, padding = 'same', activation = 'relu'),\n",
        "    layers.MaxPooling2D(),\n",
        "    layers.Dropout(0.3),\n",
        "    layers.Conv2D(16, 3, padding = 'same', activation = 'relu'),\n",
        "    layers.MaxPooling2D(),\n",
        "    layers.Dropout(0.3),\n",
        "    layers.Flatten(),\n",
        "    layers.Dense(32, activation = 'relu'),\n",
        "    layers.Dense(4, activation = 'softmax')\n",
        "])\n",
        "model.summary()"
      ],
      "metadata": {
        "id": "ZF96cNbCmNid"
      },
      "execution_count": null,
      "outputs": []
    },
    {
      "cell_type": "markdown",
      "source": [
        "##train model with 150 epochs and save model as .h5 model for later mobile app deployment conveniently"
      ],
      "metadata": {
        "id": "SVS2HKjzmWbU"
      }
    },
    {
      "cell_type": "code",
      "source": [
        "model.compile(optimizer = 'adam', loss = tf.keras.losses.SparseCategoricalCrossentropy(from_logits = True), metrics = ['accuracy'])\n",
        "'''\n",
        "model.compile(\n",
        "    loss='sparse_categorical_crossentropy',\n",
        "    optimizer=keras.optimizers.Adam(learning_rate=1e-4),\n",
        "    metrics=['accuracy'],  run_eagerly=True\n",
        ")\n",
        "'''\n",
        "\n",
        "model.fit (\n",
        "    train_dataset, \n",
        "    validation_data = val_dataset,\n",
        "    epochs = 150\n",
        ")\n",
        "model.save('model.h5')"
      ],
      "metadata": {
        "colab": {
          "base_uri": "https://localhost:8080/"
        },
        "id": "4CaGQFS2Hlk6",
        "outputId": "dd564eca-a722-4f10-d96b-af07e1bf46b5"
      },
      "execution_count": 27,
      "outputs": [
        {
          "output_type": "stream",
          "name": "stdout",
          "text": [
            "Epoch 1/150\n"
          ]
        },
        {
          "output_type": "stream",
          "name": "stderr",
          "text": [
            "/usr/local/lib/python3.7/dist-packages/tensorflow/python/util/dispatch.py:1082: UserWarning: \"`sparse_categorical_crossentropy` received `from_logits=True`, but the `output` argument was produced by a sigmoid or softmax activation and thus does not represent logits. Was this intended?\"\n",
            "  return dispatch_target(*args, **kwargs)\n"
          ]
        },
        {
          "output_type": "stream",
          "name": "stdout",
          "text": [
            "23/23 [==============================] - 1s 23ms/step - loss: 1.4239 - accuracy: 0.3152 - val_loss: 1.3156 - val_accuracy: 0.4565\n",
            "Epoch 2/150\n",
            "23/23 [==============================] - 0s 8ms/step - loss: 1.2888 - accuracy: 0.4620 - val_loss: 1.3198 - val_accuracy: 0.4565\n",
            "Epoch 3/150\n",
            "23/23 [==============================] - 0s 8ms/step - loss: 1.2841 - accuracy: 0.4620 - val_loss: 1.3471 - val_accuracy: 0.4565\n",
            "Epoch 4/150\n",
            "23/23 [==============================] - 0s 9ms/step - loss: 1.2589 - accuracy: 0.4620 - val_loss: 1.3027 - val_accuracy: 0.4565\n",
            "Epoch 5/150\n",
            "23/23 [==============================] - 0s 9ms/step - loss: 1.2247 - accuracy: 0.4728 - val_loss: 1.2524 - val_accuracy: 0.4565\n",
            "Epoch 6/150\n",
            "23/23 [==============================] - 0s 9ms/step - loss: 1.2454 - accuracy: 0.4783 - val_loss: 1.2904 - val_accuracy: 0.4565\n",
            "Epoch 7/150\n",
            "23/23 [==============================] - 0s 9ms/step - loss: 1.2102 - accuracy: 0.4891 - val_loss: 1.3440 - val_accuracy: 0.4565\n",
            "Epoch 8/150\n",
            "23/23 [==============================] - 0s 8ms/step - loss: 1.2101 - accuracy: 0.4620 - val_loss: 1.2543 - val_accuracy: 0.4565\n",
            "Epoch 9/150\n",
            "23/23 [==============================] - 0s 9ms/step - loss: 1.1648 - accuracy: 0.4837 - val_loss: 1.2281 - val_accuracy: 0.4565\n",
            "Epoch 10/150\n",
            "23/23 [==============================] - 0s 9ms/step - loss: 1.1129 - accuracy: 0.5054 - val_loss: 1.1843 - val_accuracy: 0.4565\n",
            "Epoch 11/150\n",
            "23/23 [==============================] - 0s 9ms/step - loss: 1.0563 - accuracy: 0.5435 - val_loss: 1.2139 - val_accuracy: 0.5000\n",
            "Epoch 12/150\n",
            "23/23 [==============================] - 0s 8ms/step - loss: 1.0461 - accuracy: 0.5489 - val_loss: 1.1375 - val_accuracy: 0.4783\n",
            "Epoch 13/150\n",
            "23/23 [==============================] - 0s 8ms/step - loss: 0.9152 - accuracy: 0.6087 - val_loss: 1.0387 - val_accuracy: 0.5652\n",
            "Epoch 14/150\n",
            "23/23 [==============================] - 0s 8ms/step - loss: 0.8039 - accuracy: 0.5978 - val_loss: 1.0483 - val_accuracy: 0.5435\n",
            "Epoch 15/150\n",
            "23/23 [==============================] - 0s 8ms/step - loss: 0.7236 - accuracy: 0.6793 - val_loss: 0.9854 - val_accuracy: 0.7174\n",
            "Epoch 16/150\n",
            "23/23 [==============================] - 0s 8ms/step - loss: 0.7241 - accuracy: 0.6848 - val_loss: 1.0282 - val_accuracy: 0.5217\n",
            "Epoch 17/150\n",
            "23/23 [==============================] - 0s 8ms/step - loss: 0.6879 - accuracy: 0.6576 - val_loss: 0.9257 - val_accuracy: 0.5870\n",
            "Epoch 18/150\n",
            "23/23 [==============================] - 0s 8ms/step - loss: 0.6180 - accuracy: 0.7120 - val_loss: 0.8323 - val_accuracy: 0.7174\n",
            "Epoch 19/150\n",
            "23/23 [==============================] - 0s 8ms/step - loss: 0.5602 - accuracy: 0.7554 - val_loss: 0.7940 - val_accuracy: 0.6739\n",
            "Epoch 20/150\n",
            "23/23 [==============================] - 0s 8ms/step - loss: 0.4794 - accuracy: 0.8370 - val_loss: 0.6630 - val_accuracy: 0.8043\n",
            "Epoch 21/150\n",
            "23/23 [==============================] - 0s 8ms/step - loss: 0.4083 - accuracy: 0.8913 - val_loss: 0.5978 - val_accuracy: 0.7826\n",
            "Epoch 22/150\n",
            "23/23 [==============================] - 0s 8ms/step - loss: 0.3380 - accuracy: 0.8261 - val_loss: 0.4898 - val_accuracy: 0.8478\n",
            "Epoch 23/150\n",
            "23/23 [==============================] - 0s 9ms/step - loss: 0.3233 - accuracy: 0.8641 - val_loss: 0.5346 - val_accuracy: 0.8261\n",
            "Epoch 24/150\n",
            "23/23 [==============================] - 0s 9ms/step - loss: 0.3484 - accuracy: 0.9348 - val_loss: 0.5820 - val_accuracy: 0.8696\n",
            "Epoch 25/150\n",
            "23/23 [==============================] - 0s 8ms/step - loss: 0.2390 - accuracy: 0.9076 - val_loss: 0.3209 - val_accuracy: 0.8696\n",
            "Epoch 26/150\n",
            "23/23 [==============================] - 0s 9ms/step - loss: 0.1883 - accuracy: 0.9130 - val_loss: 0.3685 - val_accuracy: 0.8913\n",
            "Epoch 27/150\n",
            "23/23 [==============================] - 0s 8ms/step - loss: 0.1505 - accuracy: 0.9620 - val_loss: 0.2509 - val_accuracy: 0.9565\n",
            "Epoch 28/150\n",
            "23/23 [==============================] - 0s 9ms/step - loss: 0.1257 - accuracy: 0.9783 - val_loss: 0.4017 - val_accuracy: 0.8478\n",
            "Epoch 29/150\n",
            "23/23 [==============================] - 0s 9ms/step - loss: 0.1364 - accuracy: 0.9891 - val_loss: 0.3025 - val_accuracy: 0.9130\n",
            "Epoch 30/150\n",
            "23/23 [==============================] - 0s 9ms/step - loss: 0.1141 - accuracy: 0.9837 - val_loss: 0.3873 - val_accuracy: 0.8478\n",
            "Epoch 31/150\n",
            "23/23 [==============================] - 0s 8ms/step - loss: 0.1699 - accuracy: 0.9457 - val_loss: 0.2497 - val_accuracy: 0.9565\n",
            "Epoch 32/150\n",
            "23/23 [==============================] - 0s 8ms/step - loss: 0.0777 - accuracy: 0.9783 - val_loss: 0.3483 - val_accuracy: 0.8696\n",
            "Epoch 33/150\n",
            "23/23 [==============================] - 0s 9ms/step - loss: 0.1099 - accuracy: 0.9620 - val_loss: 0.2226 - val_accuracy: 0.9565\n",
            "Epoch 34/150\n",
            "23/23 [==============================] - 0s 8ms/step - loss: 0.0826 - accuracy: 0.9783 - val_loss: 0.2374 - val_accuracy: 0.9130\n",
            "Epoch 35/150\n",
            "23/23 [==============================] - 0s 8ms/step - loss: 0.0458 - accuracy: 0.9891 - val_loss: 0.1569 - val_accuracy: 0.9565\n",
            "Epoch 36/150\n",
            "23/23 [==============================] - 0s 8ms/step - loss: 0.0343 - accuracy: 1.0000 - val_loss: 0.1493 - val_accuracy: 0.9565\n",
            "Epoch 37/150\n",
            "23/23 [==============================] - 0s 8ms/step - loss: 0.0138 - accuracy: 1.0000 - val_loss: 0.1411 - val_accuracy: 0.9565\n",
            "Epoch 38/150\n",
            "23/23 [==============================] - 0s 8ms/step - loss: 0.0118 - accuracy: 1.0000 - val_loss: 0.1383 - val_accuracy: 0.9130\n",
            "Epoch 39/150\n",
            "23/23 [==============================] - 0s 8ms/step - loss: 0.0102 - accuracy: 1.0000 - val_loss: 0.1568 - val_accuracy: 0.9565\n",
            "Epoch 40/150\n",
            "23/23 [==============================] - 0s 8ms/step - loss: 0.0077 - accuracy: 1.0000 - val_loss: 0.1363 - val_accuracy: 0.9565\n",
            "Epoch 41/150\n",
            "23/23 [==============================] - 0s 9ms/step - loss: 0.0052 - accuracy: 1.0000 - val_loss: 0.1402 - val_accuracy: 0.9565\n",
            "Epoch 42/150\n",
            "23/23 [==============================] - 0s 9ms/step - loss: 0.0032 - accuracy: 1.0000 - val_loss: 0.1332 - val_accuracy: 0.9565\n",
            "Epoch 43/150\n",
            "23/23 [==============================] - 0s 9ms/step - loss: 0.0029 - accuracy: 1.0000 - val_loss: 0.1590 - val_accuracy: 0.9565\n",
            "Epoch 44/150\n",
            "23/23 [==============================] - 0s 9ms/step - loss: 0.0034 - accuracy: 1.0000 - val_loss: 0.1771 - val_accuracy: 0.9565\n",
            "Epoch 45/150\n",
            "23/23 [==============================] - 0s 9ms/step - loss: 0.0021 - accuracy: 1.0000 - val_loss: 0.2199 - val_accuracy: 0.9565\n",
            "Epoch 46/150\n",
            "23/23 [==============================] - 0s 9ms/step - loss: 0.0025 - accuracy: 1.0000 - val_loss: 0.1763 - val_accuracy: 0.9565\n",
            "Epoch 47/150\n",
            "23/23 [==============================] - 0s 9ms/step - loss: 0.0013 - accuracy: 1.0000 - val_loss: 0.1715 - val_accuracy: 0.9565\n",
            "Epoch 48/150\n",
            "23/23 [==============================] - 0s 9ms/step - loss: 0.0025 - accuracy: 1.0000 - val_loss: 0.1633 - val_accuracy: 0.9565\n",
            "Epoch 49/150\n",
            "23/23 [==============================] - 0s 8ms/step - loss: 0.0026 - accuracy: 1.0000 - val_loss: 0.1197 - val_accuracy: 0.9565\n",
            "Epoch 50/150\n",
            "23/23 [==============================] - 0s 8ms/step - loss: 0.0012 - accuracy: 1.0000 - val_loss: 0.1286 - val_accuracy: 0.9130\n",
            "Epoch 51/150\n",
            "23/23 [==============================] - 0s 8ms/step - loss: 0.0027 - accuracy: 1.0000 - val_loss: 0.1355 - val_accuracy: 0.9565\n",
            "Epoch 52/150\n",
            "23/23 [==============================] - 0s 8ms/step - loss: 0.0023 - accuracy: 1.0000 - val_loss: 0.1940 - val_accuracy: 0.9130\n",
            "Epoch 53/150\n",
            "23/23 [==============================] - 0s 8ms/step - loss: 0.0011 - accuracy: 1.0000 - val_loss: 0.2114 - val_accuracy: 0.9130\n",
            "Epoch 54/150\n",
            "23/23 [==============================] - 0s 8ms/step - loss: 0.0016 - accuracy: 1.0000 - val_loss: 0.2122 - val_accuracy: 0.9130\n",
            "Epoch 55/150\n",
            "23/23 [==============================] - 0s 8ms/step - loss: 9.1428e-04 - accuracy: 1.0000 - val_loss: 0.1823 - val_accuracy: 0.9130\n",
            "Epoch 56/150\n",
            "23/23 [==============================] - 0s 8ms/step - loss: 5.1414e-04 - accuracy: 1.0000 - val_loss: 0.1861 - val_accuracy: 0.9130\n",
            "Epoch 57/150\n",
            "23/23 [==============================] - 0s 8ms/step - loss: 3.6907e-04 - accuracy: 1.0000 - val_loss: 0.1899 - val_accuracy: 0.9130\n",
            "Epoch 58/150\n",
            "23/23 [==============================] - 0s 8ms/step - loss: 5.3928e-04 - accuracy: 1.0000 - val_loss: 0.1903 - val_accuracy: 0.9130\n",
            "Epoch 59/150\n",
            "23/23 [==============================] - 0s 9ms/step - loss: 0.0089 - accuracy: 1.0000 - val_loss: 0.2602 - val_accuracy: 0.9130\n",
            "Epoch 60/150\n",
            "23/23 [==============================] - 0s 9ms/step - loss: 0.0024 - accuracy: 1.0000 - val_loss: 0.3666 - val_accuracy: 0.9130\n",
            "Epoch 61/150\n",
            "23/23 [==============================] - 0s 9ms/step - loss: 0.0017 - accuracy: 1.0000 - val_loss: 0.3908 - val_accuracy: 0.9130\n",
            "Epoch 62/150\n",
            "23/23 [==============================] - 0s 9ms/step - loss: 0.0036 - accuracy: 1.0000 - val_loss: 0.4243 - val_accuracy: 0.9130\n",
            "Epoch 63/150\n",
            "23/23 [==============================] - 0s 9ms/step - loss: 0.0079 - accuracy: 1.0000 - val_loss: 0.3810 - val_accuracy: 0.8696\n",
            "Epoch 64/150\n",
            "23/23 [==============================] - 0s 9ms/step - loss: 0.0030 - accuracy: 1.0000 - val_loss: 0.3771 - val_accuracy: 0.9130\n",
            "Epoch 65/150\n",
            "23/23 [==============================] - 0s 9ms/step - loss: 0.0053 - accuracy: 1.0000 - val_loss: 0.3322 - val_accuracy: 0.9565\n",
            "Epoch 66/150\n",
            "23/23 [==============================] - 0s 8ms/step - loss: 0.0031 - accuracy: 1.0000 - val_loss: 0.2689 - val_accuracy: 0.9565\n",
            "Epoch 67/150\n",
            "23/23 [==============================] - 0s 8ms/step - loss: 0.2218 - accuracy: 0.9457 - val_loss: 0.3990 - val_accuracy: 0.8043\n",
            "Epoch 68/150\n",
            "23/23 [==============================] - 0s 8ms/step - loss: 0.1207 - accuracy: 0.9620 - val_loss: 0.2681 - val_accuracy: 0.9565\n",
            "Epoch 69/150\n",
            "23/23 [==============================] - 0s 8ms/step - loss: 0.0330 - accuracy: 1.0000 - val_loss: 0.2834 - val_accuracy: 0.9130\n",
            "Epoch 70/150\n",
            "23/23 [==============================] - 0s 8ms/step - loss: 0.0221 - accuracy: 0.9891 - val_loss: 0.3259 - val_accuracy: 0.9130\n",
            "Epoch 71/150\n",
            "23/23 [==============================] - 0s 8ms/step - loss: 0.0082 - accuracy: 1.0000 - val_loss: 0.2839 - val_accuracy: 0.9565\n",
            "Epoch 72/150\n",
            "23/23 [==============================] - 0s 8ms/step - loss: 0.0030 - accuracy: 1.0000 - val_loss: 0.2694 - val_accuracy: 0.9565\n",
            "Epoch 73/150\n",
            "23/23 [==============================] - 0s 8ms/step - loss: 0.0012 - accuracy: 1.0000 - val_loss: 0.2809 - val_accuracy: 0.9565\n",
            "Epoch 74/150\n",
            "23/23 [==============================] - 0s 8ms/step - loss: 0.0023 - accuracy: 1.0000 - val_loss: 0.2824 - val_accuracy: 0.9565\n",
            "Epoch 75/150\n",
            "23/23 [==============================] - 0s 8ms/step - loss: 0.0015 - accuracy: 1.0000 - val_loss: 0.3073 - val_accuracy: 0.9130\n",
            "Epoch 76/150\n",
            "23/23 [==============================] - 0s 8ms/step - loss: 0.0012 - accuracy: 1.0000 - val_loss: 0.2774 - val_accuracy: 0.9565\n",
            "Epoch 77/150\n",
            "23/23 [==============================] - 0s 8ms/step - loss: 8.9828e-04 - accuracy: 1.0000 - val_loss: 0.2637 - val_accuracy: 0.9565\n",
            "Epoch 78/150\n",
            "23/23 [==============================] - 0s 9ms/step - loss: 0.0013 - accuracy: 1.0000 - val_loss: 0.2718 - val_accuracy: 0.9565\n",
            "Epoch 79/150\n",
            "23/23 [==============================] - 0s 9ms/step - loss: 7.1342e-04 - accuracy: 1.0000 - val_loss: 0.2802 - val_accuracy: 0.9565\n",
            "Epoch 80/150\n",
            "23/23 [==============================] - 0s 9ms/step - loss: 9.2720e-04 - accuracy: 1.0000 - val_loss: 0.2754 - val_accuracy: 0.9565\n",
            "Epoch 81/150\n",
            "23/23 [==============================] - 0s 9ms/step - loss: 4.7943e-04 - accuracy: 1.0000 - val_loss: 0.2705 - val_accuracy: 0.9565\n",
            "Epoch 82/150\n",
            "23/23 [==============================] - 0s 9ms/step - loss: 4.1070e-04 - accuracy: 1.0000 - val_loss: 0.2656 - val_accuracy: 0.9565\n",
            "Epoch 83/150\n",
            "23/23 [==============================] - 0s 9ms/step - loss: 0.0011 - accuracy: 1.0000 - val_loss: 0.3096 - val_accuracy: 0.9565\n",
            "Epoch 84/150\n",
            "23/23 [==============================] - 0s 9ms/step - loss: 7.0645e-04 - accuracy: 1.0000 - val_loss: 0.3315 - val_accuracy: 0.9565\n",
            "Epoch 85/150\n",
            "23/23 [==============================] - 0s 8ms/step - loss: 3.2459e-04 - accuracy: 1.0000 - val_loss: 0.3204 - val_accuracy: 0.9565\n",
            "Epoch 86/150\n",
            "23/23 [==============================] - 0s 8ms/step - loss: 4.1736e-04 - accuracy: 1.0000 - val_loss: 0.2971 - val_accuracy: 0.9565\n",
            "Epoch 87/150\n",
            "23/23 [==============================] - 0s 8ms/step - loss: 0.0028 - accuracy: 1.0000 - val_loss: 0.2951 - val_accuracy: 0.9565\n",
            "Epoch 88/150\n",
            "23/23 [==============================] - 0s 8ms/step - loss: 0.0014 - accuracy: 1.0000 - val_loss: 0.2789 - val_accuracy: 0.9565\n",
            "Epoch 89/150\n",
            "23/23 [==============================] - 0s 8ms/step - loss: 2.6793e-04 - accuracy: 1.0000 - val_loss: 0.3109 - val_accuracy: 0.9565\n",
            "Epoch 90/150\n",
            "23/23 [==============================] - 0s 8ms/step - loss: 5.3618e-04 - accuracy: 1.0000 - val_loss: 0.3270 - val_accuracy: 0.9565\n",
            "Epoch 91/150\n",
            "23/23 [==============================] - 0s 8ms/step - loss: 2.5616e-04 - accuracy: 1.0000 - val_loss: 0.3417 - val_accuracy: 0.9565\n",
            "Epoch 92/150\n",
            "23/23 [==============================] - 0s 8ms/step - loss: 8.7569e-04 - accuracy: 1.0000 - val_loss: 0.3415 - val_accuracy: 0.9565\n",
            "Epoch 93/150\n",
            "23/23 [==============================] - 0s 9ms/step - loss: 3.9068e-04 - accuracy: 1.0000 - val_loss: 0.3641 - val_accuracy: 0.9565\n",
            "Epoch 94/150\n",
            "23/23 [==============================] - 0s 9ms/step - loss: 2.3522e-04 - accuracy: 1.0000 - val_loss: 0.3484 - val_accuracy: 0.9565\n",
            "Epoch 95/150\n",
            "23/23 [==============================] - 0s 9ms/step - loss: 2.1479e-04 - accuracy: 1.0000 - val_loss: 0.3406 - val_accuracy: 0.9565\n",
            "Epoch 96/150\n",
            "23/23 [==============================] - 0s 9ms/step - loss: 6.9905e-04 - accuracy: 1.0000 - val_loss: 0.3322 - val_accuracy: 0.9130\n",
            "Epoch 97/150\n",
            "23/23 [==============================] - 0s 9ms/step - loss: 3.3816e-04 - accuracy: 1.0000 - val_loss: 0.3198 - val_accuracy: 0.9565\n",
            "Epoch 98/150\n",
            "23/23 [==============================] - 0s 9ms/step - loss: 1.4425e-04 - accuracy: 1.0000 - val_loss: 0.3174 - val_accuracy: 0.9565\n",
            "Epoch 99/150\n",
            "23/23 [==============================] - 0s 9ms/step - loss: 9.8324e-05 - accuracy: 1.0000 - val_loss: 0.3180 - val_accuracy: 0.9565\n",
            "Epoch 100/150\n",
            "23/23 [==============================] - 0s 9ms/step - loss: 1.0501e-04 - accuracy: 1.0000 - val_loss: 0.3196 - val_accuracy: 0.9565\n",
            "Epoch 101/150\n",
            "23/23 [==============================] - 0s 9ms/step - loss: 5.1441e-05 - accuracy: 1.0000 - val_loss: 0.3222 - val_accuracy: 0.9565\n",
            "Epoch 102/150\n",
            "23/23 [==============================] - 0s 9ms/step - loss: 1.0840e-04 - accuracy: 1.0000 - val_loss: 0.3216 - val_accuracy: 0.9565\n",
            "Epoch 103/150\n",
            "23/23 [==============================] - 0s 9ms/step - loss: 0.0067 - accuracy: 0.9946 - val_loss: 0.3680 - val_accuracy: 0.9130\n",
            "Epoch 104/150\n",
            "23/23 [==============================] - 0s 8ms/step - loss: 0.0369 - accuracy: 0.9891 - val_loss: 0.5231 - val_accuracy: 0.8478\n",
            "Epoch 105/150\n",
            "23/23 [==============================] - 0s 8ms/step - loss: 0.1384 - accuracy: 0.9511 - val_loss: 0.4436 - val_accuracy: 0.9565\n",
            "Epoch 106/150\n",
            "23/23 [==============================] - 0s 8ms/step - loss: 0.1531 - accuracy: 0.9620 - val_loss: 0.4364 - val_accuracy: 0.9130\n",
            "Epoch 107/150\n",
            "23/23 [==============================] - 0s 9ms/step - loss: 0.0195 - accuracy: 1.0000 - val_loss: 0.5533 - val_accuracy: 0.9130\n",
            "Epoch 108/150\n",
            "23/23 [==============================] - 0s 8ms/step - loss: 0.0349 - accuracy: 0.9837 - val_loss: 0.5729 - val_accuracy: 0.9565\n",
            "Epoch 109/150\n",
            "23/23 [==============================] - 0s 8ms/step - loss: 0.0208 - accuracy: 0.9946 - val_loss: 0.5180 - val_accuracy: 0.9565\n",
            "Epoch 110/150\n",
            "23/23 [==============================] - 0s 8ms/step - loss: 0.0432 - accuracy: 0.9891 - val_loss: 0.5129 - val_accuracy: 0.9565\n",
            "Epoch 111/150\n",
            "23/23 [==============================] - 0s 8ms/step - loss: 0.0282 - accuracy: 0.9891 - val_loss: 0.5359 - val_accuracy: 0.9130\n",
            "Epoch 112/150\n",
            "23/23 [==============================] - 0s 9ms/step - loss: 0.0270 - accuracy: 0.9946 - val_loss: 0.8199 - val_accuracy: 0.9565\n",
            "Epoch 113/150\n",
            "23/23 [==============================] - 0s 9ms/step - loss: 0.0246 - accuracy: 0.9946 - val_loss: 0.6833 - val_accuracy: 0.9565\n",
            "Epoch 114/150\n",
            "23/23 [==============================] - 0s 9ms/step - loss: 0.0726 - accuracy: 0.9783 - val_loss: 0.5515 - val_accuracy: 0.9565\n",
            "Epoch 115/150\n",
            "23/23 [==============================] - 0s 8ms/step - loss: 0.0338 - accuracy: 0.9891 - val_loss: 0.5953 - val_accuracy: 0.9565\n",
            "Epoch 116/150\n",
            "23/23 [==============================] - 0s 8ms/step - loss: 0.0043 - accuracy: 1.0000 - val_loss: 0.9631 - val_accuracy: 0.9565\n",
            "Epoch 117/150\n",
            "23/23 [==============================] - 0s 9ms/step - loss: 0.0074 - accuracy: 0.9946 - val_loss: 0.6463 - val_accuracy: 0.9565\n",
            "Epoch 118/150\n",
            "23/23 [==============================] - 0s 9ms/step - loss: 0.0021 - accuracy: 1.0000 - val_loss: 0.6024 - val_accuracy: 0.9565\n",
            "Epoch 119/150\n",
            "23/23 [==============================] - 0s 9ms/step - loss: 8.0901e-04 - accuracy: 1.0000 - val_loss: 0.6348 - val_accuracy: 0.9565\n",
            "Epoch 120/150\n",
            "23/23 [==============================] - 0s 9ms/step - loss: 4.9267e-04 - accuracy: 1.0000 - val_loss: 0.6566 - val_accuracy: 0.9565\n",
            "Epoch 121/150\n",
            "23/23 [==============================] - 0s 9ms/step - loss: 7.9766e-04 - accuracy: 1.0000 - val_loss: 0.6881 - val_accuracy: 0.9565\n",
            "Epoch 122/150\n",
            "23/23 [==============================] - 0s 9ms/step - loss: 3.8192e-04 - accuracy: 1.0000 - val_loss: 0.7142 - val_accuracy: 0.9565\n",
            "Epoch 123/150\n",
            "23/23 [==============================] - 0s 9ms/step - loss: 2.3212e-04 - accuracy: 1.0000 - val_loss: 0.7325 - val_accuracy: 0.9565\n",
            "Epoch 124/150\n",
            "23/23 [==============================] - 0s 9ms/step - loss: 2.7472e-04 - accuracy: 1.0000 - val_loss: 0.7464 - val_accuracy: 0.9565\n",
            "Epoch 125/150\n",
            "23/23 [==============================] - 0s 8ms/step - loss: 1.5332e-04 - accuracy: 1.0000 - val_loss: 0.7553 - val_accuracy: 0.9565\n",
            "Epoch 126/150\n",
            "23/23 [==============================] - 0s 8ms/step - loss: 4.5514e-04 - accuracy: 1.0000 - val_loss: 0.7905 - val_accuracy: 0.9565\n",
            "Epoch 127/150\n",
            "23/23 [==============================] - 0s 8ms/step - loss: 1.4997e-04 - accuracy: 1.0000 - val_loss: 0.8099 - val_accuracy: 0.9565\n",
            "Epoch 128/150\n",
            "23/23 [==============================] - 0s 8ms/step - loss: 1.4798e-04 - accuracy: 1.0000 - val_loss: 0.8119 - val_accuracy: 0.9565\n",
            "Epoch 129/150\n",
            "23/23 [==============================] - 0s 8ms/step - loss: 1.1025e-04 - accuracy: 1.0000 - val_loss: 0.8110 - val_accuracy: 0.9565\n",
            "Epoch 130/150\n",
            "23/23 [==============================] - 0s 8ms/step - loss: 1.3370e-04 - accuracy: 1.0000 - val_loss: 0.8169 - val_accuracy: 0.9565\n",
            "Epoch 131/150\n",
            "23/23 [==============================] - 0s 8ms/step - loss: 1.3975e-04 - accuracy: 1.0000 - val_loss: 0.8168 - val_accuracy: 0.9565\n",
            "Epoch 132/150\n",
            "23/23 [==============================] - 0s 8ms/step - loss: 0.0012 - accuracy: 1.0000 - val_loss: 0.7515 - val_accuracy: 0.9565\n",
            "Epoch 133/150\n",
            "23/23 [==============================] - 0s 8ms/step - loss: 4.1447e-04 - accuracy: 1.0000 - val_loss: 0.7398 - val_accuracy: 0.9565\n",
            "Epoch 134/150\n",
            "23/23 [==============================] - 0s 8ms/step - loss: 1.9646e-04 - accuracy: 1.0000 - val_loss: 0.7496 - val_accuracy: 0.9565\n",
            "Epoch 135/150\n",
            "23/23 [==============================] - 0s 8ms/step - loss: 2.9268e-04 - accuracy: 1.0000 - val_loss: 0.7612 - val_accuracy: 0.9565\n",
            "Epoch 136/150\n",
            "23/23 [==============================] - 0s 9ms/step - loss: 3.7457e-04 - accuracy: 1.0000 - val_loss: 0.7747 - val_accuracy: 0.9565\n",
            "Epoch 137/150\n",
            "23/23 [==============================] - 0s 9ms/step - loss: 3.9166e-04 - accuracy: 1.0000 - val_loss: 0.7926 - val_accuracy: 0.9565\n",
            "Epoch 138/150\n",
            "23/23 [==============================] - 0s 9ms/step - loss: 9.5047e-05 - accuracy: 1.0000 - val_loss: 0.8218 - val_accuracy: 0.9565\n",
            "Epoch 139/150\n",
            "23/23 [==============================] - 0s 9ms/step - loss: 3.5124e-04 - accuracy: 1.0000 - val_loss: 0.8418 - val_accuracy: 0.9565\n",
            "Epoch 140/150\n",
            "23/23 [==============================] - 0s 9ms/step - loss: 8.8571e-05 - accuracy: 1.0000 - val_loss: 0.8490 - val_accuracy: 0.9565\n",
            "Epoch 141/150\n",
            "23/23 [==============================] - 0s 9ms/step - loss: 8.4728e-05 - accuracy: 1.0000 - val_loss: 0.8531 - val_accuracy: 0.9565\n",
            "Epoch 142/150\n",
            "23/23 [==============================] - 0s 9ms/step - loss: 9.7108e-05 - accuracy: 1.0000 - val_loss: 0.8580 - val_accuracy: 0.9565\n",
            "Epoch 143/150\n",
            "23/23 [==============================] - 0s 9ms/step - loss: 2.5330e-04 - accuracy: 1.0000 - val_loss: 0.8390 - val_accuracy: 0.9565\n",
            "Epoch 144/150\n",
            "23/23 [==============================] - 0s 8ms/step - loss: 6.0976e-05 - accuracy: 1.0000 - val_loss: 0.8354 - val_accuracy: 0.9565\n",
            "Epoch 145/150\n",
            "23/23 [==============================] - 0s 8ms/step - loss: 9.8650e-05 - accuracy: 1.0000 - val_loss: 0.8402 - val_accuracy: 0.9565\n",
            "Epoch 146/150\n",
            "23/23 [==============================] - 0s 8ms/step - loss: 9.1752e-05 - accuracy: 1.0000 - val_loss: 0.8464 - val_accuracy: 0.9565\n",
            "Epoch 147/150\n",
            "23/23 [==============================] - 0s 8ms/step - loss: 7.5470e-05 - accuracy: 1.0000 - val_loss: 0.8504 - val_accuracy: 0.9565\n",
            "Epoch 148/150\n",
            "23/23 [==============================] - 0s 8ms/step - loss: 1.3764e-04 - accuracy: 1.0000 - val_loss: 0.8564 - val_accuracy: 0.9565\n",
            "Epoch 149/150\n",
            "23/23 [==============================] - 0s 8ms/step - loss: 8.8154e-05 - accuracy: 1.0000 - val_loss: 0.8607 - val_accuracy: 0.9565\n",
            "Epoch 150/150\n",
            "23/23 [==============================] - 0s 8ms/step - loss: 1.4465e-04 - accuracy: 1.0000 - val_loss: 0.8678 - val_accuracy: 0.9565\n"
          ]
        }
      ]
    },
    {
      "cell_type": "markdown",
      "source": [
        "##visualize train and validation loss and accuracy curves"
      ],
      "metadata": {
        "id": "K_bC_SbYmdUq"
      }
    },
    {
      "cell_type": "code",
      "source": [
        "loss = pd.DataFrame(model.history.history)\n",
        "\n",
        "#plotting the loss and accuracy \n",
        "plt.figure(figsize=(10,10))\n",
        "\n",
        "plt.subplot(2,2,1)\n",
        "plt.plot(loss[\"loss\"], label =\"Loss\")\n",
        "plt.plot(loss[\"val_loss\"], label = \"Validation_loss\")\n",
        "plt.legend()\n",
        "plt.title(\"Training and Validation Loss\")\n",
        "\n",
        "plt.subplot(2,2,2)\n",
        "plt.plot(loss['accuracy'],label = \"Training Accuracy\")\n",
        "plt.plot(loss['val_accuracy'], label =\"Validation_ Accuracy \")\n",
        "plt.legend()\n",
        "plt.title(\"Training-Validation Accuracy\")"
      ],
      "metadata": {
        "colab": {
          "base_uri": "https://localhost:8080/",
          "height": 329
        },
        "id": "JvWzB_usAAvy",
        "outputId": "64f6acff-cd8f-464e-a71d-899a3cfb4bfb"
      },
      "execution_count": 19,
      "outputs": [
        {
          "output_type": "execute_result",
          "data": {
            "text/plain": [
              "Text(0.5, 1.0, 'Training-Validation Accuracy')"
            ]
          },
          "metadata": {},
          "execution_count": 19
        },
        {
          "output_type": "display_data",
          "data": {
            "text/plain": [
              "<Figure size 720x720 with 2 Axes>"
            ],
            "image/png": "[encoded data removed]"
          },
          "metadata": {
            "needs_background": "light"
          }
        }
      ]
    }
  ]
}