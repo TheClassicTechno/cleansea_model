{
  "nbformat": 4,
  "nbformat_minor": 0,
  "metadata": {
    "colab": {
      "name": "2ND TACO Dataset CNN Model",
      "provenance": [],
      "machine_shape": "hm",
      "background_execution": "on",
      "collapsed_sections": [],
      "authorship_tag": "ABX9TyNdLFiFy7LA706so2E7n5/e",
      "include_colab_link": true
    },
    "kernelspec": {
      "name": "python3",
      "display_name": "Python 3"
    },
    "language_info": {
      "name": "python"
    },
    "accelerator": "GPU",
    "gpuClass": "standard"
  },
  "cells": [
    {
      "cell_type": "markdown",
      "metadata": {
        "id": "view-in-github",
        "colab_type": "text"
      },
      "source": [
        "<a href=\"https://colab.research.google.com/github/TheClassicTechno/cleansea_model/blob/main/surreal_version/2ND_TACO_Dataset_CNN_Model.ipynb\" target=\"_parent\"><img src=\"https://colab.research.google.com/assets/colab-badge.svg\" alt=\"Open In Colab\"/></a>"
      ]
    },
    {
      "cell_type": "markdown",
      "source": [
        "#Taco Revised Dataset CNN Model\n",
        "\n",
        "achieved ~90% accuracy consistently on the Taco Custom 2.0 Dataset."
      ],
      "metadata": {
        "id": "0i54wSuEld8_"
      }
    },
    {
      "cell_type": "markdown",
      "source": [
        "##mount drive to access dataset"
      ],
      "metadata": {
        "id": "HxLRhOO0lpif"
      }
    },
    {
      "cell_type": "code",
      "source": [
        "from google.colab import drive\n",
        "drive.mount('/content/drive')"
      ],
      "metadata": {
        "colab": {
          "base_uri": "https://localhost:8080/"
        },
        "id": "A6i0R_D6Gk89",
        "outputId": "f5fd01d6-2668-4413-8bfe-accf7ee1c4ab"
      },
      "execution_count": 43,
      "outputs": [
        {
          "output_type": "stream",
          "name": "stdout",
          "text": [
            "Drive already mounted at /content/drive; to attempt to forcibly remount, call drive.mount(\"/content/drive\", force_remount=True).\n"
          ]
        }
      ]
    },
    {
      "cell_type": "markdown",
      "source": [
        "##import necessary libraries"
      ],
      "metadata": {
        "id": "Jf6mLAr-lsSa"
      }
    },
    {
      "cell_type": "code",
      "execution_count": 44,
      "metadata": {
        "id": "UmfB3Q5xGXAy"
      },
      "outputs": [],
      "source": [
        "from tensorflow import keras\n",
        "from tensorflow.keras import layers\n",
        "from tensorflow.keras.models import Sequential\n",
        "import pandas as pd\n",
        "import numpy as np\n",
        "import tensorflow as tf\n",
        "import os\n",
        "import matplotlib.pyplot as plt\n",
        "import pathlib\n",
        "import cv2\n",
        "import glob\n",
        "\n",
        "\n"
      ]
    },
    {
      "cell_type": "markdown",
      "source": [
        "##accessing paths of all 4 debris types + split entire Taco Dataset into train and validation 80-20 split"
      ],
      "metadata": {
        "id": "UkAsKwFLl6yN"
      }
    },
    {
      "cell_type": "code",
      "source": [
        "#processing images\n",
        "bottles1 = '/content/drive/MyDrive/TEAM9SURESTART/tacobig/BOTTLES'\n",
        "cans1 = '/content/drive/MyDrive/TEAM9SURESTART/tacobig/CANS'\n",
        "containers1 = '/content/drive/MyDrive/TEAM9SURESTART/tacobig/CONTAINERS'\n",
        "#paper1 = '/content/drive/MyDrive/TEAM9SURESTART/taco/paper'\n",
        "plastic1 = '/content/drive/MyDrive/TEAM9SURESTART/tacobig/PLASTIC'\n",
        "\n",
        "bottles = [cv2.imread(image) for image in glob.glob(bottles1)]\n",
        "cans = [cv2.imread(image) for image in glob.glob(cans1)]\n",
        "containers = [cv2.imread(image) for image in glob.glob(containers1)]\n",
        "#paper = [cv2.imread(image) for image in glob.glob(paper1)]\n",
        "plastic = [cv2.imread(image) for image in glob.glob(plastic1)]\n",
        "\n",
        "train_dataset = tf.keras.utils.image_dataset_from_directory(\n",
        "    '/content/drive/MyDrive/TEAM9SURESTART/tacobig',\n",
        "    validation_split = 0.2,\n",
        "    subset = \"training\",\n",
        "    seed = 24,  \n",
        "    image_size = (256, 256),\n",
        "    batch_size = 16\n",
        ")\n",
        "\n",
        "val_dataset = tf.keras.utils.image_dataset_from_directory(\n",
        "    '/content/drive/MyDrive/TEAM9SURESTART/tacobig',\n",
        "    validation_split = 0.2,\n",
        "    subset = \"validation\",\n",
        "    seed = 24,  \n",
        "    image_size = (256, 256),\n",
        "    batch_size = 16\n",
        ")\n",
        "\n",
        "\n",
        "\n",
        "\n",
        "\n",
        "train_dataset = train_dataset.cache().shuffle(13).prefetch(buffer_size = tf.data.AUTOTUNE)\n",
        "val_dataset = val_dataset.cache().shuffle(13).prefetch(buffer_size = tf.data.AUTOTUNE)\n"
      ],
      "metadata": {
        "colab": {
          "base_uri": "https://localhost:8080/"
        },
        "id": "ULsUt1M8MwrO",
        "outputId": "b84ad38f-3619-4fb6-db6e-ec4740a3b0b2"
      },
      "execution_count": 50,
      "outputs": [
        {
          "output_type": "stream",
          "name": "stdout",
          "text": [
            "Found 922 files belonging to 4 classes.\n",
            "Using 738 files for training.\n",
            "Found 922 files belonging to 4 classes.\n",
            "Using 184 files for validation.\n"
          ]
        }
      ]
    },
    {
      "cell_type": "markdown",
      "source": [
        "##model architecture\n",
        "\n",
        "###includes rescaling of input image shapes"
      ],
      "metadata": {
        "id": "8O4u8a0WmOkD"
      }
    },
    {
      "cell_type": "code",
      "source": [
        "\n",
        "model = Sequential ([\n",
        "    \n",
        "    \n",
        "    layers.Rescaling(1./255, input_shape = (256, 256, 3)),\n",
        "    layers.Conv2D(16, 3, padding = 'same', activation = 'relu'),\n",
        "    layers.MaxPooling2D(),\n",
        "    layers.Dropout(0.3),\n",
        "    layers.Conv2D(32, 3, padding = 'same', activation = 'relu'),\n",
        "    layers.MaxPooling2D(),\n",
        "    layers.Dropout(0.3),\n",
        "    layers.Conv2D(16, 3, padding = 'same', activation = 'relu'),\n",
        "    layers.MaxPooling2D(),\n",
        "    layers.Dropout(0.3),\n",
        "    layers.Flatten(),\n",
        "    layers.Dense(32, activation = 'relu'),\n",
        "    layers.Dense(4, activation = 'softmax')\n",
        "])\n",
        "model.summary()"
      ],
      "metadata": {
        "colab": {
          "base_uri": "https://localhost:8080/"
        },
        "id": "ZF96cNbCmNid",
        "outputId": "586256eb-7a46-4178-b28b-24f30f9a4b88"
      },
      "execution_count": 51,
      "outputs": [
        {
          "output_type": "stream",
          "name": "stdout",
          "text": [
            "Model: \"sequential_8\"\n",
            "_________________________________________________________________\n",
            " Layer (type)                Output Shape              Param #   \n",
            "=================================================================\n",
            " rescaling_8 (Rescaling)     (None, 256, 256, 3)       0         \n",
            "                                                                 \n",
            " conv2d_24 (Conv2D)          (None, 256, 256, 16)      448       \n",
            "                                                                 \n",
            " max_pooling2d_24 (MaxPoolin  (None, 128, 128, 16)     0         \n",
            " g2D)                                                            \n",
            "                                                                 \n",
            " dropout_24 (Dropout)        (None, 128, 128, 16)      0         \n",
            "                                                                 \n",
            " conv2d_25 (Conv2D)          (None, 128, 128, 32)      4640      \n",
            "                                                                 \n",
            " max_pooling2d_25 (MaxPoolin  (None, 64, 64, 32)       0         \n",
            " g2D)                                                            \n",
            "                                                                 \n",
            " dropout_25 (Dropout)        (None, 64, 64, 32)        0         \n",
            "                                                                 \n",
            " conv2d_26 (Conv2D)          (None, 64, 64, 16)        4624      \n",
            "                                                                 \n",
            " max_pooling2d_26 (MaxPoolin  (None, 32, 32, 16)       0         \n",
            " g2D)                                                            \n",
            "                                                                 \n",
            " dropout_26 (Dropout)        (None, 32, 32, 16)        0         \n",
            "                                                                 \n",
            " flatten_8 (Flatten)         (None, 16384)             0         \n",
            "                                                                 \n",
            " dense_16 (Dense)            (None, 32)                524320    \n",
            "                                                                 \n",
            " dense_17 (Dense)            (None, 4)                 132       \n",
            "                                                                 \n",
            "=================================================================\n",
            "Total params: 534,164\n",
            "Trainable params: 534,164\n",
            "Non-trainable params: 0\n",
            "_________________________________________________________________\n"
          ]
        }
      ]
    },
    {
      "cell_type": "markdown",
      "source": [
        "##train model with 150 epochs"
      ],
      "metadata": {
        "id": "SVS2HKjzmWbU"
      }
    },
    {
      "cell_type": "code",
      "source": [
        "model.compile(optimizer = 'adam', loss = tf.keras.losses.SparseCategoricalCrossentropy(from_logits = True), metrics = ['accuracy'])\n",
        "'''\n",
        "model.compile(\n",
        "    loss='sparse_categorical_crossentropy',\n",
        "    optimizer=keras.optimizers.Adam(learning_rate=1e-4),\n",
        "    metrics=['accuracy'],  run_eagerly=True\n",
        ")\n",
        "\n",
        "'''\n",
        "model.fit (\n",
        "    train_dataset, \n",
        "    validation_data = val_dataset,\n",
        "    epochs = 150\n",
        ")\n"
      ],
      "metadata": {
        "colab": {
          "base_uri": "https://localhost:8080/"
        },
        "id": "4CaGQFS2Hlk6",
        "outputId": "847a2281-4907-4d8b-86de-53ab15dbd5e3"
      },
      "execution_count": 52,
      "outputs": [
        {
          "output_type": "stream",
          "name": "stdout",
          "text": [
            "Epoch 1/150\n"
          ]
        },
        {
          "output_type": "stream",
          "name": "stderr",
          "text": [
            "/usr/local/lib/python3.7/dist-packages/tensorflow/python/util/dispatch.py:1082: UserWarning: \"`sparse_categorical_crossentropy` received `from_logits=True`, but the `output` argument was produced by a sigmoid or softmax activation and thus does not represent logits. Was this intended?\"\n",
            "  return dispatch_target(*args, **kwargs)\n"
          ]
        },
        {
          "output_type": "stream",
          "name": "stdout",
          "text": [
            "47/47 [==============================] - 5s 63ms/step - loss: 1.4370 - accuracy: 0.2995 - val_loss: 1.3762 - val_accuracy: 0.3207\n",
            "Epoch 2/150\n",
            "47/47 [==============================] - 1s 11ms/step - loss: 1.3638 - accuracy: 0.3482 - val_loss: 1.3631 - val_accuracy: 0.3478\n",
            "Epoch 3/150\n",
            "47/47 [==============================] - 1s 11ms/step - loss: 1.3345 - accuracy: 0.3659 - val_loss: 1.3242 - val_accuracy: 0.4076\n",
            "Epoch 4/150\n",
            "47/47 [==============================] - 1s 11ms/step - loss: 1.3011 - accuracy: 0.3889 - val_loss: 1.2806 - val_accuracy: 0.3478\n",
            "Epoch 5/150\n",
            "47/47 [==============================] - 1s 11ms/step - loss: 1.2293 - accuracy: 0.4499 - val_loss: 1.2652 - val_accuracy: 0.4620\n",
            "Epoch 6/150\n",
            "47/47 [==============================] - 1s 11ms/step - loss: 1.0569 - accuracy: 0.5407 - val_loss: 1.1886 - val_accuracy: 0.5598\n",
            "Epoch 7/150\n",
            "47/47 [==============================] - 1s 11ms/step - loss: 0.9041 - accuracy: 0.6301 - val_loss: 1.1470 - val_accuracy: 0.5217\n",
            "Epoch 8/150\n",
            "47/47 [==============================] - 1s 11ms/step - loss: 0.7848 - accuracy: 0.7263 - val_loss: 1.1420 - val_accuracy: 0.5707\n",
            "Epoch 9/150\n",
            "47/47 [==============================] - 1s 11ms/step - loss: 0.6922 - accuracy: 0.7520 - val_loss: 0.9452 - val_accuracy: 0.6196\n",
            "Epoch 10/150\n",
            "47/47 [==============================] - 1s 11ms/step - loss: 0.6455 - accuracy: 0.7832 - val_loss: 0.8340 - val_accuracy: 0.6957\n",
            "Epoch 11/150\n",
            "47/47 [==============================] - 1s 11ms/step - loss: 0.4303 - accuracy: 0.8496 - val_loss: 0.9054 - val_accuracy: 0.6576\n",
            "Epoch 12/150\n",
            "47/47 [==============================] - 1s 11ms/step - loss: 0.4546 - accuracy: 0.8347 - val_loss: 0.8073 - val_accuracy: 0.7446\n",
            "Epoch 13/150\n",
            "47/47 [==============================] - 1s 11ms/step - loss: 0.3683 - accuracy: 0.8821 - val_loss: 0.6979 - val_accuracy: 0.7935\n",
            "Epoch 14/150\n",
            "47/47 [==============================] - 1s 11ms/step - loss: 0.2656 - accuracy: 0.9133 - val_loss: 0.6887 - val_accuracy: 0.8098\n",
            "Epoch 15/150\n",
            "47/47 [==============================] - 1s 11ms/step - loss: 0.2279 - accuracy: 0.9241 - val_loss: 0.5868 - val_accuracy: 0.8696\n",
            "Epoch 16/150\n",
            "47/47 [==============================] - 1s 11ms/step - loss: 0.1870 - accuracy: 0.9404 - val_loss: 0.6829 - val_accuracy: 0.8533\n",
            "Epoch 17/150\n",
            "47/47 [==============================] - 1s 11ms/step - loss: 0.1731 - accuracy: 0.9526 - val_loss: 0.6714 - val_accuracy: 0.8587\n",
            "Epoch 18/150\n",
            "47/47 [==============================] - 1s 11ms/step - loss: 0.0809 - accuracy: 0.9810 - val_loss: 0.6272 - val_accuracy: 0.8370\n",
            "Epoch 19/150\n",
            "47/47 [==============================] - 1s 11ms/step - loss: 0.0927 - accuracy: 0.9661 - val_loss: 0.7200 - val_accuracy: 0.8587\n",
            "Epoch 20/150\n",
            "47/47 [==============================] - 1s 11ms/step - loss: 0.1074 - accuracy: 0.9621 - val_loss: 0.5310 - val_accuracy: 0.8750\n",
            "Epoch 21/150\n",
            "47/47 [==============================] - 1s 11ms/step - loss: 0.0636 - accuracy: 0.9810 - val_loss: 0.7331 - val_accuracy: 0.8641\n",
            "Epoch 22/150\n",
            "47/47 [==============================] - 1s 11ms/step - loss: 0.0601 - accuracy: 0.9783 - val_loss: 0.6329 - val_accuracy: 0.8478\n",
            "Epoch 23/150\n",
            "47/47 [==============================] - 1s 11ms/step - loss: 0.0434 - accuracy: 0.9864 - val_loss: 0.6917 - val_accuracy: 0.8641\n",
            "Epoch 24/150\n",
            "47/47 [==============================] - 1s 11ms/step - loss: 0.0310 - accuracy: 0.9905 - val_loss: 0.6200 - val_accuracy: 0.8696\n",
            "Epoch 25/150\n",
            "47/47 [==============================] - 1s 11ms/step - loss: 0.0426 - accuracy: 0.9864 - val_loss: 0.6378 - val_accuracy: 0.8913\n",
            "Epoch 26/150\n",
            "47/47 [==============================] - 1s 11ms/step - loss: 0.0432 - accuracy: 0.9851 - val_loss: 0.7307 - val_accuracy: 0.8641\n",
            "Epoch 27/150\n",
            "47/47 [==============================] - 1s 11ms/step - loss: 0.0642 - accuracy: 0.9729 - val_loss: 0.6299 - val_accuracy: 0.8750\n",
            "Epoch 28/150\n",
            "47/47 [==============================] - 1s 11ms/step - loss: 0.0174 - accuracy: 0.9973 - val_loss: 0.7217 - val_accuracy: 0.8859\n",
            "Epoch 29/150\n",
            "47/47 [==============================] - 1s 11ms/step - loss: 0.0047 - accuracy: 1.0000 - val_loss: 0.8481 - val_accuracy: 0.8859\n",
            "Epoch 30/150\n",
            "47/47 [==============================] - 1s 11ms/step - loss: 0.0126 - accuracy: 0.9986 - val_loss: 0.8938 - val_accuracy: 0.8750\n",
            "Epoch 31/150\n",
            "47/47 [==============================] - 1s 11ms/step - loss: 0.0607 - accuracy: 0.9770 - val_loss: 0.7421 - val_accuracy: 0.9022\n",
            "Epoch 32/150\n",
            "47/47 [==============================] - 1s 11ms/step - loss: 0.0131 - accuracy: 0.9973 - val_loss: 0.8310 - val_accuracy: 0.8913\n",
            "Epoch 33/150\n",
            "47/47 [==============================] - 1s 11ms/step - loss: 0.0065 - accuracy: 0.9973 - val_loss: 0.7895 - val_accuracy: 0.9022\n",
            "Epoch 34/150\n",
            "47/47 [==============================] - 1s 11ms/step - loss: 0.0054 - accuracy: 1.0000 - val_loss: 0.8570 - val_accuracy: 0.8967\n",
            "Epoch 35/150\n",
            "47/47 [==============================] - 1s 11ms/step - loss: 0.0504 - accuracy: 0.9837 - val_loss: 0.8035 - val_accuracy: 0.8641\n",
            "Epoch 36/150\n",
            "47/47 [==============================] - 1s 11ms/step - loss: 0.1803 - accuracy: 0.9336 - val_loss: 0.7131 - val_accuracy: 0.8533\n",
            "Epoch 37/150\n",
            "47/47 [==============================] - 1s 11ms/step - loss: 0.0751 - accuracy: 0.9770 - val_loss: 0.5893 - val_accuracy: 0.8859\n",
            "Epoch 38/150\n",
            "47/47 [==============================] - 1s 11ms/step - loss: 0.0371 - accuracy: 0.9851 - val_loss: 0.7007 - val_accuracy: 0.9022\n",
            "Epoch 39/150\n",
            "47/47 [==============================] - 1s 11ms/step - loss: 0.0075 - accuracy: 0.9986 - val_loss: 0.7146 - val_accuracy: 0.8967\n",
            "Epoch 40/150\n",
            "47/47 [==============================] - 1s 11ms/step - loss: 0.0266 - accuracy: 0.9905 - val_loss: 0.6924 - val_accuracy: 0.8587\n",
            "Epoch 41/150\n",
            "47/47 [==============================] - 1s 11ms/step - loss: 0.0219 - accuracy: 0.9959 - val_loss: 0.6513 - val_accuracy: 0.8913\n",
            "Epoch 42/150\n",
            "47/47 [==============================] - 1s 11ms/step - loss: 0.0070 - accuracy: 1.0000 - val_loss: 0.6651 - val_accuracy: 0.9022\n",
            "Epoch 43/150\n",
            "47/47 [==============================] - 1s 12ms/step - loss: 0.0025 - accuracy: 1.0000 - val_loss: 0.7811 - val_accuracy: 0.9130\n",
            "Epoch 44/150\n",
            "47/47 [==============================] - 1s 11ms/step - loss: 0.0155 - accuracy: 0.9959 - val_loss: 0.8666 - val_accuracy: 0.8913\n",
            "Epoch 45/150\n",
            "47/47 [==============================] - 1s 11ms/step - loss: 0.0067 - accuracy: 0.9986 - val_loss: 1.0136 - val_accuracy: 0.8913\n",
            "Epoch 46/150\n",
            "47/47 [==============================] - 1s 12ms/step - loss: 0.0086 - accuracy: 0.9986 - val_loss: 1.0731 - val_accuracy: 0.8913\n",
            "Epoch 47/150\n",
            "47/47 [==============================] - 1s 11ms/step - loss: 0.0133 - accuracy: 0.9946 - val_loss: 0.7849 - val_accuracy: 0.8859\n",
            "Epoch 48/150\n",
            "47/47 [==============================] - 1s 11ms/step - loss: 0.0956 - accuracy: 0.9715 - val_loss: 0.8400 - val_accuracy: 0.8533\n",
            "Epoch 49/150\n",
            "47/47 [==============================] - 1s 11ms/step - loss: 0.1437 - accuracy: 0.9580 - val_loss: 0.6359 - val_accuracy: 0.8641\n",
            "Epoch 50/150\n",
            "47/47 [==============================] - 1s 11ms/step - loss: 0.0285 - accuracy: 0.9919 - val_loss: 1.0830 - val_accuracy: 0.8804\n",
            "Epoch 51/150\n",
            "47/47 [==============================] - 1s 11ms/step - loss: 0.0402 - accuracy: 0.9851 - val_loss: 0.7473 - val_accuracy: 0.9022\n",
            "Epoch 52/150\n",
            "47/47 [==============================] - 1s 11ms/step - loss: 0.0254 - accuracy: 0.9932 - val_loss: 0.7699 - val_accuracy: 0.9022\n",
            "Epoch 53/150\n",
            "47/47 [==============================] - 1s 11ms/step - loss: 0.0106 - accuracy: 0.9946 - val_loss: 1.0034 - val_accuracy: 0.8587\n",
            "Epoch 54/150\n",
            "47/47 [==============================] - 1s 11ms/step - loss: 0.0120 - accuracy: 0.9946 - val_loss: 0.9909 - val_accuracy: 0.8696\n",
            "Epoch 55/150\n",
            "47/47 [==============================] - 1s 11ms/step - loss: 0.0167 - accuracy: 0.9959 - val_loss: 0.8748 - val_accuracy: 0.8967\n",
            "Epoch 56/150\n",
            "47/47 [==============================] - 1s 11ms/step - loss: 0.0252 - accuracy: 0.9919 - val_loss: 0.9296 - val_accuracy: 0.8696\n",
            "Epoch 57/150\n",
            "47/47 [==============================] - 1s 11ms/step - loss: 0.0102 - accuracy: 0.9959 - val_loss: 0.8404 - val_accuracy: 0.8750\n",
            "Epoch 58/150\n",
            "47/47 [==============================] - 1s 11ms/step - loss: 0.0188 - accuracy: 0.9946 - val_loss: 0.8848 - val_accuracy: 0.8696\n",
            "Epoch 59/150\n",
            "47/47 [==============================] - 1s 11ms/step - loss: 0.0250 - accuracy: 0.9932 - val_loss: 0.5884 - val_accuracy: 0.8913\n",
            "Epoch 60/150\n",
            "47/47 [==============================] - 1s 11ms/step - loss: 0.0349 - accuracy: 0.9864 - val_loss: 0.7473 - val_accuracy: 0.8696\n",
            "Epoch 61/150\n",
            "47/47 [==============================] - 1s 11ms/step - loss: 0.0187 - accuracy: 0.9919 - val_loss: 0.9210 - val_accuracy: 0.8804\n",
            "Epoch 62/150\n",
            "47/47 [==============================] - 1s 11ms/step - loss: 0.0160 - accuracy: 0.9946 - val_loss: 0.9013 - val_accuracy: 0.8967\n",
            "Epoch 63/150\n",
            "47/47 [==============================] - 1s 11ms/step - loss: 0.0254 - accuracy: 0.9919 - val_loss: 0.8149 - val_accuracy: 0.8913\n",
            "Epoch 64/150\n",
            "47/47 [==============================] - 1s 11ms/step - loss: 0.0083 - accuracy: 0.9986 - val_loss: 0.8889 - val_accuracy: 0.8859\n",
            "Epoch 65/150\n",
            "47/47 [==============================] - 1s 11ms/step - loss: 0.0067 - accuracy: 0.9973 - val_loss: 0.8887 - val_accuracy: 0.8804\n",
            "Epoch 66/150\n",
            "47/47 [==============================] - 1s 11ms/step - loss: 0.0038 - accuracy: 0.9986 - val_loss: 0.8944 - val_accuracy: 0.8804\n",
            "Epoch 67/150\n",
            "47/47 [==============================] - 1s 11ms/step - loss: 0.0013 - accuracy: 1.0000 - val_loss: 0.9601 - val_accuracy: 0.8696\n",
            "Epoch 68/150\n",
            "47/47 [==============================] - 1s 11ms/step - loss: 8.4324e-04 - accuracy: 1.0000 - val_loss: 1.0198 - val_accuracy: 0.8641\n",
            "Epoch 69/150\n",
            "47/47 [==============================] - 1s 11ms/step - loss: 4.2375e-04 - accuracy: 1.0000 - val_loss: 1.0332 - val_accuracy: 0.8641\n",
            "Epoch 70/150\n",
            "47/47 [==============================] - 1s 11ms/step - loss: 3.3391e-04 - accuracy: 1.0000 - val_loss: 1.0415 - val_accuracy: 0.8641\n",
            "Epoch 71/150\n",
            "47/47 [==============================] - 1s 11ms/step - loss: 4.1223e-04 - accuracy: 1.0000 - val_loss: 1.0505 - val_accuracy: 0.8641\n",
            "Epoch 72/150\n",
            "47/47 [==============================] - 1s 11ms/step - loss: 2.1880e-04 - accuracy: 1.0000 - val_loss: 1.0561 - val_accuracy: 0.8641\n",
            "Epoch 73/150\n",
            "47/47 [==============================] - 1s 11ms/step - loss: 3.1437e-04 - accuracy: 1.0000 - val_loss: 1.0734 - val_accuracy: 0.8696\n",
            "Epoch 74/150\n",
            "47/47 [==============================] - 1s 11ms/step - loss: 2.0957e-04 - accuracy: 1.0000 - val_loss: 1.0843 - val_accuracy: 0.8641\n",
            "Epoch 75/150\n",
            "47/47 [==============================] - 1s 11ms/step - loss: 0.0120 - accuracy: 0.9986 - val_loss: 1.1077 - val_accuracy: 0.8533\n",
            "Epoch 76/150\n",
            "47/47 [==============================] - 1s 11ms/step - loss: 0.0307 - accuracy: 0.9878 - val_loss: 1.1998 - val_accuracy: 0.8370\n",
            "Epoch 77/150\n",
            "47/47 [==============================] - 1s 11ms/step - loss: 0.0641 - accuracy: 0.9810 - val_loss: 0.9933 - val_accuracy: 0.8641\n",
            "Epoch 78/150\n",
            "47/47 [==============================] - 1s 11ms/step - loss: 0.0323 - accuracy: 0.9892 - val_loss: 0.8896 - val_accuracy: 0.8478\n",
            "Epoch 79/150\n",
            "47/47 [==============================] - 1s 11ms/step - loss: 0.0100 - accuracy: 0.9973 - val_loss: 0.7809 - val_accuracy: 0.8804\n",
            "Epoch 80/150\n",
            "47/47 [==============================] - 1s 11ms/step - loss: 0.0058 - accuracy: 1.0000 - val_loss: 0.7801 - val_accuracy: 0.8696\n",
            "Epoch 81/150\n",
            "47/47 [==============================] - 1s 11ms/step - loss: 0.0046 - accuracy: 0.9986 - val_loss: 1.0144 - val_accuracy: 0.8750\n",
            "Epoch 82/150\n",
            "47/47 [==============================] - 1s 11ms/step - loss: 0.0139 - accuracy: 0.9959 - val_loss: 1.2348 - val_accuracy: 0.8587\n",
            "Epoch 83/150\n",
            "47/47 [==============================] - 1s 11ms/step - loss: 0.0482 - accuracy: 0.9905 - val_loss: 0.6920 - val_accuracy: 0.8913\n",
            "Epoch 84/150\n",
            "47/47 [==============================] - 1s 11ms/step - loss: 0.0119 - accuracy: 0.9959 - val_loss: 0.9045 - val_accuracy: 0.8641\n",
            "Epoch 85/150\n",
            "47/47 [==============================] - 1s 11ms/step - loss: 0.0166 - accuracy: 0.9932 - val_loss: 0.9220 - val_accuracy: 0.8478\n",
            "Epoch 86/150\n",
            "47/47 [==============================] - 1s 11ms/step - loss: 0.0041 - accuracy: 0.9986 - val_loss: 0.9846 - val_accuracy: 0.8587\n",
            "Epoch 87/150\n",
            "47/47 [==============================] - 1s 11ms/step - loss: 0.0017 - accuracy: 1.0000 - val_loss: 1.0373 - val_accuracy: 0.8696\n",
            "Epoch 88/150\n",
            "47/47 [==============================] - 1s 11ms/step - loss: 0.0019 - accuracy: 1.0000 - val_loss: 1.1595 - val_accuracy: 0.8641\n",
            "Epoch 89/150\n",
            "47/47 [==============================] - 1s 11ms/step - loss: 3.8172e-04 - accuracy: 1.0000 - val_loss: 1.1758 - val_accuracy: 0.8641\n",
            "Epoch 90/150\n",
            "47/47 [==============================] - 1s 11ms/step - loss: 3.1361e-04 - accuracy: 1.0000 - val_loss: 1.1754 - val_accuracy: 0.8641\n",
            "Epoch 91/150\n",
            "47/47 [==============================] - 1s 11ms/step - loss: 5.3518e-04 - accuracy: 1.0000 - val_loss: 1.1800 - val_accuracy: 0.8859\n",
            "Epoch 92/150\n",
            "47/47 [==============================] - 1s 11ms/step - loss: 3.7426e-04 - accuracy: 1.0000 - val_loss: 1.1774 - val_accuracy: 0.8859\n",
            "Epoch 93/150\n",
            "47/47 [==============================] - 1s 11ms/step - loss: 3.4277e-04 - accuracy: 1.0000 - val_loss: 1.1341 - val_accuracy: 0.8913\n",
            "Epoch 94/150\n",
            "47/47 [==============================] - 1s 11ms/step - loss: 0.0100 - accuracy: 0.9959 - val_loss: 0.8077 - val_accuracy: 0.8750\n",
            "Epoch 95/150\n",
            "47/47 [==============================] - 1s 11ms/step - loss: 0.0041 - accuracy: 0.9986 - val_loss: 0.9568 - val_accuracy: 0.8587\n",
            "Epoch 96/150\n",
            "47/47 [==============================] - 1s 11ms/step - loss: 0.0021 - accuracy: 0.9986 - val_loss: 0.8991 - val_accuracy: 0.8641\n",
            "Epoch 97/150\n",
            "47/47 [==============================] - 1s 11ms/step - loss: 0.0231 - accuracy: 0.9946 - val_loss: 1.0230 - val_accuracy: 0.8696\n",
            "Epoch 98/150\n",
            "47/47 [==============================] - 1s 11ms/step - loss: 0.0595 - accuracy: 0.9783 - val_loss: 0.8384 - val_accuracy: 0.8152\n",
            "Epoch 99/150\n",
            "47/47 [==============================] - 1s 11ms/step - loss: 0.0483 - accuracy: 0.9783 - val_loss: 1.0249 - val_accuracy: 0.8587\n",
            "Epoch 100/150\n",
            "47/47 [==============================] - 1s 11ms/step - loss: 0.0435 - accuracy: 0.9864 - val_loss: 0.9069 - val_accuracy: 0.8750\n",
            "Epoch 101/150\n",
            "47/47 [==============================] - 1s 11ms/step - loss: 0.0141 - accuracy: 0.9973 - val_loss: 0.8734 - val_accuracy: 0.8696\n",
            "Epoch 102/150\n",
            "47/47 [==============================] - 1s 11ms/step - loss: 0.0139 - accuracy: 0.9959 - val_loss: 0.9533 - val_accuracy: 0.8478\n",
            "Epoch 103/150\n",
            "47/47 [==============================] - 1s 11ms/step - loss: 0.0292 - accuracy: 0.9864 - val_loss: 0.9887 - val_accuracy: 0.8696\n",
            "Epoch 104/150\n",
            "47/47 [==============================] - 1s 11ms/step - loss: 0.0135 - accuracy: 0.9932 - val_loss: 1.0459 - val_accuracy: 0.9022\n",
            "Epoch 105/150\n",
            "47/47 [==============================] - 1s 11ms/step - loss: 0.0381 - accuracy: 0.9905 - val_loss: 1.3433 - val_accuracy: 0.8207\n",
            "Epoch 106/150\n",
            "47/47 [==============================] - 1s 11ms/step - loss: 0.0261 - accuracy: 0.9905 - val_loss: 0.9550 - val_accuracy: 0.8641\n",
            "Epoch 107/150\n",
            "47/47 [==============================] - 1s 11ms/step - loss: 0.0302 - accuracy: 0.9932 - val_loss: 1.0241 - val_accuracy: 0.8913\n",
            "Epoch 108/150\n",
            "47/47 [==============================] - 1s 11ms/step - loss: 0.0043 - accuracy: 0.9986 - val_loss: 0.8526 - val_accuracy: 0.9022\n",
            "Epoch 109/150\n",
            "47/47 [==============================] - 1s 11ms/step - loss: 0.0313 - accuracy: 0.9932 - val_loss: 0.8386 - val_accuracy: 0.8967\n",
            "Epoch 110/150\n",
            "47/47 [==============================] - 1s 11ms/step - loss: 0.0072 - accuracy: 0.9973 - val_loss: 0.6996 - val_accuracy: 0.8967\n",
            "Epoch 111/150\n",
            "47/47 [==============================] - 1s 11ms/step - loss: 0.0052 - accuracy: 0.9973 - val_loss: 0.9466 - val_accuracy: 0.8696\n",
            "Epoch 112/150\n",
            "47/47 [==============================] - 1s 11ms/step - loss: 0.0355 - accuracy: 0.9905 - val_loss: 0.7082 - val_accuracy: 0.9130\n",
            "Epoch 113/150\n",
            "47/47 [==============================] - 1s 11ms/step - loss: 0.0058 - accuracy: 0.9973 - val_loss: 0.9533 - val_accuracy: 0.8804\n",
            "Epoch 114/150\n",
            "47/47 [==============================] - 1s 11ms/step - loss: 7.9142e-04 - accuracy: 1.0000 - val_loss: 0.9799 - val_accuracy: 0.8804\n",
            "Epoch 115/150\n",
            "47/47 [==============================] - 1s 11ms/step - loss: 0.0272 - accuracy: 0.9932 - val_loss: 0.7512 - val_accuracy: 0.9130\n",
            "Epoch 116/150\n",
            "47/47 [==============================] - 1s 11ms/step - loss: 0.0043 - accuracy: 0.9986 - val_loss: 0.9932 - val_accuracy: 0.8804\n",
            "Epoch 117/150\n",
            "47/47 [==============================] - 1s 11ms/step - loss: 0.0054 - accuracy: 0.9986 - val_loss: 0.9952 - val_accuracy: 0.8804\n",
            "Epoch 118/150\n",
            "47/47 [==============================] - 1s 11ms/step - loss: 4.2833e-04 - accuracy: 1.0000 - val_loss: 1.0619 - val_accuracy: 0.8859\n",
            "Epoch 119/150\n",
            "47/47 [==============================] - 1s 11ms/step - loss: 6.3980e-04 - accuracy: 1.0000 - val_loss: 1.0123 - val_accuracy: 0.8804\n",
            "Epoch 120/150\n",
            "47/47 [==============================] - 1s 11ms/step - loss: 7.3798e-04 - accuracy: 1.0000 - val_loss: 1.0454 - val_accuracy: 0.8859\n",
            "Epoch 121/150\n",
            "47/47 [==============================] - 1s 11ms/step - loss: 3.4514e-04 - accuracy: 1.0000 - val_loss: 1.0174 - val_accuracy: 0.8967\n",
            "Epoch 122/150\n",
            "47/47 [==============================] - 1s 11ms/step - loss: 2.0202e-04 - accuracy: 1.0000 - val_loss: 1.0018 - val_accuracy: 0.8967\n",
            "Epoch 123/150\n",
            "47/47 [==============================] - 1s 11ms/step - loss: 1.0548e-04 - accuracy: 1.0000 - val_loss: 1.0169 - val_accuracy: 0.8967\n",
            "Epoch 124/150\n",
            "47/47 [==============================] - 1s 11ms/step - loss: 1.7565e-04 - accuracy: 1.0000 - val_loss: 1.0183 - val_accuracy: 0.8967\n",
            "Epoch 125/150\n",
            "47/47 [==============================] - 1s 12ms/step - loss: 1.5643e-04 - accuracy: 1.0000 - val_loss: 1.0605 - val_accuracy: 0.8967\n",
            "Epoch 126/150\n",
            "47/47 [==============================] - 1s 11ms/step - loss: 1.8646e-04 - accuracy: 1.0000 - val_loss: 1.0746 - val_accuracy: 0.8967\n",
            "Epoch 127/150\n",
            "47/47 [==============================] - 1s 11ms/step - loss: 7.5096e-05 - accuracy: 1.0000 - val_loss: 1.0903 - val_accuracy: 0.8967\n",
            "Epoch 128/150\n",
            "47/47 [==============================] - 1s 11ms/step - loss: 7.4223e-05 - accuracy: 1.0000 - val_loss: 1.0917 - val_accuracy: 0.9022\n",
            "Epoch 129/150\n",
            "47/47 [==============================] - 1s 11ms/step - loss: 5.9192e-05 - accuracy: 1.0000 - val_loss: 1.0941 - val_accuracy: 0.9022\n",
            "Epoch 130/150\n",
            "47/47 [==============================] - 1s 11ms/step - loss: 1.0823e-04 - accuracy: 1.0000 - val_loss: 1.0850 - val_accuracy: 0.9022\n",
            "Epoch 131/150\n",
            "47/47 [==============================] - 1s 11ms/step - loss: 4.9974e-05 - accuracy: 1.0000 - val_loss: 1.0907 - val_accuracy: 0.9022\n",
            "Epoch 132/150\n",
            "47/47 [==============================] - 1s 11ms/step - loss: 8.3907e-05 - accuracy: 1.0000 - val_loss: 1.1015 - val_accuracy: 0.9022\n",
            "Epoch 133/150\n",
            "47/47 [==============================] - 1s 11ms/step - loss: 1.3271e-04 - accuracy: 1.0000 - val_loss: 1.1039 - val_accuracy: 0.9022\n",
            "Epoch 134/150\n",
            "47/47 [==============================] - 1s 11ms/step - loss: 4.6332e-05 - accuracy: 1.0000 - val_loss: 1.0738 - val_accuracy: 0.9022\n",
            "Epoch 135/150\n",
            "47/47 [==============================] - 1s 11ms/step - loss: 5.2704e-05 - accuracy: 1.0000 - val_loss: 1.0843 - val_accuracy: 0.9022\n",
            "Epoch 136/150\n",
            "47/47 [==============================] - 1s 11ms/step - loss: 3.3610e-05 - accuracy: 1.0000 - val_loss: 1.0891 - val_accuracy: 0.9022\n",
            "Epoch 137/150\n",
            "47/47 [==============================] - 1s 11ms/step - loss: 9.9380e-05 - accuracy: 1.0000 - val_loss: 1.1091 - val_accuracy: 0.9022\n",
            "Epoch 138/150\n",
            "47/47 [==============================] - 1s 11ms/step - loss: 2.7485e-05 - accuracy: 1.0000 - val_loss: 1.1140 - val_accuracy: 0.9022\n",
            "Epoch 139/150\n",
            "47/47 [==============================] - 1s 11ms/step - loss: 1.0978e-04 - accuracy: 1.0000 - val_loss: 1.1273 - val_accuracy: 0.9022\n",
            "Epoch 140/150\n",
            "47/47 [==============================] - 1s 11ms/step - loss: 0.0015 - accuracy: 0.9986 - val_loss: 1.0545 - val_accuracy: 0.8859\n",
            "Epoch 141/150\n",
            "47/47 [==============================] - 1s 11ms/step - loss: 0.0285 - accuracy: 0.9878 - val_loss: 0.9036 - val_accuracy: 0.8696\n",
            "Epoch 142/150\n",
            "47/47 [==============================] - 1s 11ms/step - loss: 0.0356 - accuracy: 0.9878 - val_loss: 1.0562 - val_accuracy: 0.8967\n",
            "Epoch 143/150\n",
            "47/47 [==============================] - 1s 11ms/step - loss: 0.0305 - accuracy: 0.9892 - val_loss: 0.7597 - val_accuracy: 0.8967\n",
            "Epoch 144/150\n",
            "47/47 [==============================] - 1s 11ms/step - loss: 0.0028 - accuracy: 1.0000 - val_loss: 0.8215 - val_accuracy: 0.8913\n",
            "Epoch 145/150\n",
            "47/47 [==============================] - 1s 11ms/step - loss: 3.0145e-04 - accuracy: 1.0000 - val_loss: 0.8127 - val_accuracy: 0.8967\n",
            "Epoch 146/150\n",
            "47/47 [==============================] - 1s 11ms/step - loss: 1.9010e-04 - accuracy: 1.0000 - val_loss: 0.8088 - val_accuracy: 0.8967\n",
            "Epoch 147/150\n",
            "47/47 [==============================] - 1s 11ms/step - loss: 1.7025e-04 - accuracy: 1.0000 - val_loss: 0.8109 - val_accuracy: 0.8967\n",
            "Epoch 148/150\n",
            "47/47 [==============================] - 1s 11ms/step - loss: 3.3124e-04 - accuracy: 1.0000 - val_loss: 0.8004 - val_accuracy: 0.8967\n",
            "Epoch 149/150\n",
            "47/47 [==============================] - 1s 11ms/step - loss: 2.2090e-04 - accuracy: 1.0000 - val_loss: 0.8422 - val_accuracy: 0.8967\n",
            "Epoch 150/150\n",
            "47/47 [==============================] - 1s 11ms/step - loss: 0.0010 - accuracy: 1.0000 - val_loss: 1.0061 - val_accuracy: 0.8859\n"
          ]
        },
        {
          "output_type": "execute_result",
          "data": {
            "text/plain": [
              "<keras.callbacks.History at 0x7fa82553e8d0>"
            ]
          },
          "metadata": {},
          "execution_count": 52
        }
      ]
    },
    {
      "cell_type": "markdown",
      "source": [
        "##visualize train and validation loss and accuracy curves"
      ],
      "metadata": {
        "id": "K_bC_SbYmdUq"
      }
    },
    {
      "cell_type": "code",
      "source": [
        "loss = pd.DataFrame(model.history.history)\n",
        "\n",
        "#plotting the loss and accuracy \n",
        "plt.figure(figsize=(10,10))\n",
        "\n",
        "plt.subplot(2,2,1)\n",
        "plt.plot(loss[\"loss\"], label =\"Loss\")\n",
        "plt.plot(loss[\"val_loss\"], label = \"Validation_loss\")\n",
        "plt.legend()\n",
        "plt.title(\"Training and Validation Loss\")\n",
        "\n",
        "plt.subplot(2,2,2)\n",
        "plt.plot(loss['accuracy'],label = \"Training Accuracy\")\n",
        "plt.plot(loss['val_accuracy'], label =\"Validation_ Accuracy \")\n",
        "plt.legend()\n",
        "plt.title(\"Training-Validation Accuracy\")\n",
        "print(\"val_loss: 0.0517 - val_accuracy: 0.9565\")"
      ],
      "metadata": {
        "colab": {
          "base_uri": "https://localhost:8080/",
          "height": 328
        },
        "id": "JvWzB_usAAvy",
        "outputId": "401f22e3-d2ef-4d7f-91fb-41e870441f22"
      },
      "execution_count": 53,
      "outputs": [
        {
          "output_type": "stream",
          "name": "stdout",
          "text": [
            "val_loss: 0.0517 - val_accuracy: 0.9565\n"
          ]
        },
        {
          "output_type": "display_data",
          "data": {
            "text/plain": [
              "<Figure size 720x720 with 2 Axes>"
            ],
            "image/png": "[encoded data removed]"
          },
          "metadata": {
            "needs_background": "light"
          }
        }
      ]
    },
    {
      "cell_type": "markdown",
      "source": [
        "#save model as .h5 model for convenient mobile app deployment "
      ],
      "metadata": {
        "id": "lBtZzn4796LT"
      }
    },
    {
      "cell_type": "code",
      "source": [
        "model.save('model.h5')\n",
        "\n",
        "\n",
        "#save to drive as h5 model tensorflow model\n",
        "model_to_be_saved=\"cleansea_model\" \n",
        "\n",
        "model.save('/content/drive/MyDrive/saved_models/'+model_to_be_saved+'.h5')\n"
      ],
      "metadata": {
        "id": "JinQv_JF94Ha"
      },
      "execution_count": 54,
      "outputs": []
    }
  ]
}