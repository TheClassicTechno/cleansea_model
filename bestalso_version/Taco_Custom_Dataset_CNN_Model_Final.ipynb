{
  "nbformat": 4,
  "nbformat_minor": 0,
  "metadata": {
    "colab": {
      "name": "Taco Custom Dataset CNN Model Final",
      "provenance": [],
      "machine_shape": "hm",
      "background_execution": "on",
      "collapsed_sections": [],
      "authorship_tag": "ABX9TyPlUhsk7deEkxi+Inj74MXc",
      "include_colab_link": true
    },
    "kernelspec": {
      "name": "python3",
      "display_name": "Python 3"
    },
    "language_info": {
      "name": "python"
    },
    "accelerator": "GPU",
    "gpuClass": "standard"
  },
  "cells": [
    {
      "cell_type": "markdown",
      "metadata": {
        "id": "view-in-github",
        "colab_type": "text"
      },
      "source": [
        "<a href=\"https://colab.research.google.com/github/TheClassicTechno/cleansea_model/blob/main/bestalso_version/Taco_Custom_Dataset_CNN_Model_Final.ipynb\" target=\"_parent\"><img src=\"https://colab.research.google.com/assets/colab-badge.svg\" alt=\"Open In Colab\"/></a>"
      ]
    },
    {
      "cell_type": "markdown",
      "source": [
        "#Taco Revised Dataset CNN Model\n",
        "\n",
        "achieved >95% accuracy consistently on the Taco Custom Dataset."
      ],
      "metadata": {
        "id": "0i54wSuEld8_"
      }
    },
    {
      "cell_type": "markdown",
      "source": [
        "##mount drive to access dataset"
      ],
      "metadata": {
        "id": "HxLRhOO0lpif"
      }
    },
    {
      "cell_type": "code",
      "source": [
        "from google.colab import drive\n",
        "drive.mount('/content/drive')"
      ],
      "metadata": {
        "colab": {
          "base_uri": "https://localhost:8080/"
        },
        "id": "A6i0R_D6Gk89",
        "outputId": "02debda6-6e94-45de-dafe-879602f70eba"
      },
      "execution_count": 11,
      "outputs": [
        {
          "output_type": "stream",
          "name": "stdout",
          "text": [
            "Drive already mounted at /content/drive; to attempt to forcibly remount, call drive.mount(\"/content/drive\", force_remount=True).\n"
          ]
        }
      ]
    },
    {
      "cell_type": "markdown",
      "source": [
        "##import necessary libraries"
      ],
      "metadata": {
        "id": "Jf6mLAr-lsSa"
      }
    },
    {
      "cell_type": "code",
      "execution_count": 40,
      "metadata": {
        "id": "UmfB3Q5xGXAy"
      },
      "outputs": [],
      "source": [
        "from tensorflow import keras\n",
        "from tensorflow.keras import layers\n",
        "from tensorflow.keras.models import Sequential\n",
        "import pandas as pd\n",
        "import numpy as np\n",
        "import tensorflow as tf\n",
        "import os\n",
        "import matplotlib.pyplot as plt\n",
        "import pathlib\n",
        "import cv2\n",
        "import glob\n",
        "\n",
        "\n"
      ]
    },
    {
      "cell_type": "markdown",
      "source": [
        "##accessing paths of all 4 debris types + split entire Taco Dataset into train and validation 80-20 split"
      ],
      "metadata": {
        "id": "UkAsKwFLl6yN"
      }
    },
    {
      "cell_type": "code",
      "source": [
        "#processing images\n",
        "bottles1 = '/content/drive/MyDrive/TEAM9SURESTART/taco/bottles'\n",
        "cans1 = '/content/drive/MyDrive/TEAM9SURESTART/taco/cans'\n",
        "containers1 = '/content/drive/MyDrive/TEAM9SURESTART/taco/containers'\n",
        "#paper1 = '/content/drive/MyDrive/TEAM9SURESTART/taco/paper'\n",
        "plastic1 = '/content/drive/MyDrive/TEAM9SURESTART/taco/plastic'\n",
        "\n",
        "bottles = [cv2.imread(image) for image in glob.glob(bottles1)]\n",
        "cans = [cv2.imread(image) for image in glob.glob(cans1)]\n",
        "containers = [cv2.imread(image) for image in glob.glob(containers1)]\n",
        "#paper = [cv2.imread(image) for image in glob.glob(paper1)]\n",
        "plastic = [cv2.imread(image) for image in glob.glob(plastic1)]\n",
        "\n",
        "train_dataset = tf.keras.utils.image_dataset_from_directory(\n",
        "    '/content/drive/MyDrive/TEAM9SURESTART/taco',\n",
        "    validation_split = 0.2,\n",
        "    subset = \"training\",\n",
        "    seed = 24,  \n",
        "    image_size = (256, 256),\n",
        "    batch_size = 8\n",
        ")\n",
        "\n",
        "val_dataset = tf.keras.utils.image_dataset_from_directory(\n",
        "    '/content/drive/MyDrive/TEAM9SURESTART/taco',\n",
        "    validation_split = 0.2,\n",
        "    subset = \"validation\",\n",
        "    seed = 24,  \n",
        "    image_size = (256, 256),\n",
        "    batch_size = 8\n",
        ")\n",
        "\n",
        "\n",
        "\n",
        "\n",
        "\n",
        "train_dataset = train_dataset.cache().shuffle(13).prefetch(buffer_size = tf.data.AUTOTUNE)\n",
        "val_dataset = val_dataset.cache().shuffle(13).prefetch(buffer_size = tf.data.AUTOTUNE)\n"
      ],
      "metadata": {
        "colab": {
          "base_uri": "https://localhost:8080/"
        },
        "id": "ULsUt1M8MwrO",
        "outputId": "91caf7fb-d6e3-4b35-ab5e-d551bc36174c"
      },
      "execution_count": 41,
      "outputs": [
        {
          "output_type": "stream",
          "name": "stdout",
          "text": [
            "Found 230 files belonging to 4 classes.\n",
            "Using 184 files for training.\n",
            "Found 230 files belonging to 4 classes.\n",
            "Using 46 files for validation.\n"
          ]
        }
      ]
    },
    {
      "cell_type": "markdown",
      "source": [
        "##model architecture\n",
        "\n",
        "###includes rescaling of input image shapes"
      ],
      "metadata": {
        "id": "8O4u8a0WmOkD"
      }
    },
    {
      "cell_type": "code",
      "source": [
        "\n",
        "model = Sequential ([\n",
        "    \n",
        "    \n",
        "    layers.Rescaling(1./255, input_shape = (256, 256, 3)),\n",
        "    layers.Conv2D(16, 3, padding = 'same', activation = 'relu'),\n",
        "    layers.MaxPooling2D(),\n",
        "    layers.Dropout(0.3),\n",
        "    layers.Conv2D(32, 3, padding = 'same', activation = 'relu'),\n",
        "    layers.MaxPooling2D(),\n",
        "    layers.Dropout(0.3),\n",
        "    layers.Conv2D(16, 3, padding = 'same', activation = 'relu'),\n",
        "    layers.MaxPooling2D(),\n",
        "    layers.Dropout(0.3),\n",
        "    layers.Flatten(),\n",
        "    layers.Dense(32, activation = 'relu'),\n",
        "    layers.Dense(4, activation = 'softmax')\n",
        "])\n",
        "model.summary()"
      ],
      "metadata": {
        "colab": {
          "base_uri": "https://localhost:8080/"
        },
        "id": "ZF96cNbCmNid",
        "outputId": "a44d728e-3cae-4f33-eac0-ed1419970362"
      },
      "execution_count": 42,
      "outputs": [
        {
          "output_type": "stream",
          "name": "stdout",
          "text": [
            "Model: \"sequential_25\"\n",
            "_________________________________________________________________\n",
            " Layer (type)                Output Shape              Param #   \n",
            "=================================================================\n",
            " rescaling_13 (Rescaling)    (None, 256, 256, 3)       0         \n",
            "                                                                 \n",
            " conv2d_39 (Conv2D)          (None, 256, 256, 16)      448       \n",
            "                                                                 \n",
            " max_pooling2d_39 (MaxPoolin  (None, 128, 128, 16)     0         \n",
            " g2D)                                                            \n",
            "                                                                 \n",
            " dropout_39 (Dropout)        (None, 128, 128, 16)      0         \n",
            "                                                                 \n",
            " conv2d_40 (Conv2D)          (None, 128, 128, 32)      4640      \n",
            "                                                                 \n",
            " max_pooling2d_40 (MaxPoolin  (None, 64, 64, 32)       0         \n",
            " g2D)                                                            \n",
            "                                                                 \n",
            " dropout_40 (Dropout)        (None, 64, 64, 32)        0         \n",
            "                                                                 \n",
            " conv2d_41 (Conv2D)          (None, 64, 64, 16)        4624      \n",
            "                                                                 \n",
            " max_pooling2d_41 (MaxPoolin  (None, 32, 32, 16)       0         \n",
            " g2D)                                                            \n",
            "                                                                 \n",
            " dropout_41 (Dropout)        (None, 32, 32, 16)        0         \n",
            "                                                                 \n",
            " flatten_13 (Flatten)        (None, 16384)             0         \n",
            "                                                                 \n",
            " dense_26 (Dense)            (None, 32)                524320    \n",
            "                                                                 \n",
            " dense_27 (Dense)            (None, 4)                 132       \n",
            "                                                                 \n",
            "=================================================================\n",
            "Total params: 534,164\n",
            "Trainable params: 534,164\n",
            "Non-trainable params: 0\n",
            "_________________________________________________________________\n"
          ]
        }
      ]
    },
    {
      "cell_type": "markdown",
      "source": [
        "##train model with 150 epochs and save model as .h5 model for later mobile app deployment conveniently"
      ],
      "metadata": {
        "id": "SVS2HKjzmWbU"
      }
    },
    {
      "cell_type": "code",
      "source": [
        "model.compile(optimizer = 'adam', loss = tf.keras.losses.SparseCategoricalCrossentropy(from_logits = True), metrics = ['accuracy'])\n",
        "'''\n",
        "model.compile(\n",
        "    loss='sparse_categorical_crossentropy',\n",
        "    optimizer=keras.optimizers.Adam(learning_rate=1e-4),\n",
        "    metrics=['accuracy'],  run_eagerly=True\n",
        ")\n",
        "\n",
        "'''\n",
        "model.fit (\n",
        "    train_dataset, \n",
        "    validation_data = val_dataset,\n",
        "    epochs = 150\n",
        ")\n",
        "model.save('model.h5')"
      ],
      "metadata": {
        "colab": {
          "base_uri": "https://localhost:8080/"
        },
        "id": "4CaGQFS2Hlk6",
        "outputId": "da0148aa-676f-422c-8b38-cf1796b3656e"
      },
      "execution_count": 43,
      "outputs": [
        {
          "output_type": "stream",
          "name": "stdout",
          "text": [
            "Epoch 1/150\n"
          ]
        },
        {
          "output_type": "stream",
          "name": "stderr",
          "text": [
            "/usr/local/lib/python3.7/dist-packages/tensorflow/python/util/dispatch.py:1082: UserWarning: \"`sparse_categorical_crossentropy` received `from_logits=True`, but the `output` argument was produced by a sigmoid or softmax activation and thus does not represent logits. Was this intended?\"\n",
            "  return dispatch_target(*args, **kwargs)\n"
          ]
        },
        {
          "output_type": "stream",
          "name": "stdout",
          "text": [
            "23/23 [==============================] - 1s 22ms/step - loss: 1.6768 - accuracy: 0.3641 - val_loss: 1.3516 - val_accuracy: 0.4565\n",
            "Epoch 2/150\n",
            "23/23 [==============================] - 0s 9ms/step - loss: 1.3164 - accuracy: 0.4620 - val_loss: 1.3406 - val_accuracy: 0.4565\n",
            "Epoch 3/150\n",
            "23/23 [==============================] - 0s 9ms/step - loss: 1.2820 - accuracy: 0.4620 - val_loss: 1.3092 - val_accuracy: 0.4565\n",
            "Epoch 4/150\n",
            "23/23 [==============================] - 0s 8ms/step - loss: 1.2625 - accuracy: 0.4620 - val_loss: 1.3485 - val_accuracy: 0.4565\n",
            "Epoch 5/150\n",
            "23/23 [==============================] - 0s 9ms/step - loss: 1.2356 - accuracy: 0.4620 - val_loss: 1.2751 - val_accuracy: 0.4565\n",
            "Epoch 6/150\n",
            "23/23 [==============================] - 0s 9ms/step - loss: 1.2142 - accuracy: 0.4728 - val_loss: 1.2339 - val_accuracy: 0.4565\n",
            "Epoch 7/150\n",
            "23/23 [==============================] - 0s 9ms/step - loss: 1.2047 - accuracy: 0.5054 - val_loss: 1.2256 - val_accuracy: 0.4565\n",
            "Epoch 8/150\n",
            "23/23 [==============================] - 0s 9ms/step - loss: 1.1326 - accuracy: 0.5109 - val_loss: 1.1690 - val_accuracy: 0.5000\n",
            "Epoch 9/150\n",
            "23/23 [==============================] - 0s 8ms/step - loss: 1.0463 - accuracy: 0.5435 - val_loss: 1.0736 - val_accuracy: 0.4783\n",
            "Epoch 10/150\n",
            "23/23 [==============================] - 0s 8ms/step - loss: 0.8846 - accuracy: 0.6304 - val_loss: 1.0068 - val_accuracy: 0.5435\n",
            "Epoch 11/150\n",
            "23/23 [==============================] - 0s 8ms/step - loss: 0.7776 - accuracy: 0.6957 - val_loss: 0.9214 - val_accuracy: 0.7826\n",
            "Epoch 12/150\n",
            "23/23 [==============================] - 0s 8ms/step - loss: 0.7286 - accuracy: 0.7283 - val_loss: 0.9145 - val_accuracy: 0.6522\n",
            "Epoch 13/150\n",
            "23/23 [==============================] - 0s 8ms/step - loss: 0.5665 - accuracy: 0.7989 - val_loss: 0.7383 - val_accuracy: 0.7826\n",
            "Epoch 14/150\n",
            "23/23 [==============================] - 0s 10ms/step - loss: 0.4731 - accuracy: 0.8424 - val_loss: 0.7337 - val_accuracy: 0.7391\n",
            "Epoch 15/150\n",
            "23/23 [==============================] - 0s 8ms/step - loss: 0.4235 - accuracy: 0.8696 - val_loss: 0.4780 - val_accuracy: 0.8261\n",
            "Epoch 16/150\n",
            "23/23 [==============================] - 0s 8ms/step - loss: 0.3554 - accuracy: 0.9022 - val_loss: 0.7346 - val_accuracy: 0.6522\n",
            "Epoch 17/150\n",
            "23/23 [==============================] - 0s 8ms/step - loss: 0.3211 - accuracy: 0.8859 - val_loss: 0.4715 - val_accuracy: 0.7826\n",
            "Epoch 18/150\n",
            "23/23 [==============================] - 0s 9ms/step - loss: 0.2109 - accuracy: 0.9293 - val_loss: 0.4835 - val_accuracy: 0.7826\n",
            "Epoch 19/150\n",
            "23/23 [==============================] - 0s 8ms/step - loss: 0.1589 - accuracy: 0.9457 - val_loss: 0.4434 - val_accuracy: 0.8043\n",
            "Epoch 20/150\n",
            "23/23 [==============================] - 0s 9ms/step - loss: 0.2821 - accuracy: 0.9130 - val_loss: 0.6600 - val_accuracy: 0.7174\n",
            "Epoch 21/150\n",
            "23/23 [==============================] - 0s 9ms/step - loss: 0.1385 - accuracy: 0.9565 - val_loss: 0.4319 - val_accuracy: 0.8696\n",
            "Epoch 22/150\n",
            "23/23 [==============================] - 0s 9ms/step - loss: 0.0558 - accuracy: 0.9891 - val_loss: 0.4660 - val_accuracy: 0.8478\n",
            "Epoch 23/150\n",
            "23/23 [==============================] - 0s 9ms/step - loss: 0.0999 - accuracy: 0.9783 - val_loss: 0.5230 - val_accuracy: 0.8261\n",
            "Epoch 24/150\n",
            "23/23 [==============================] - 0s 9ms/step - loss: 0.1025 - accuracy: 0.9674 - val_loss: 0.5149 - val_accuracy: 0.8696\n",
            "Epoch 25/150\n",
            "23/23 [==============================] - 0s 9ms/step - loss: 0.1516 - accuracy: 0.9402 - val_loss: 0.3715 - val_accuracy: 0.8478\n",
            "Epoch 26/150\n",
            "23/23 [==============================] - 0s 9ms/step - loss: 0.0777 - accuracy: 0.9837 - val_loss: 0.4657 - val_accuracy: 0.8478\n",
            "Epoch 27/150\n",
            "23/23 [==============================] - 0s 9ms/step - loss: 0.0732 - accuracy: 0.9783 - val_loss: 0.5224 - val_accuracy: 0.8696\n",
            "Epoch 28/150\n",
            "23/23 [==============================] - 0s 8ms/step - loss: 0.0242 - accuracy: 1.0000 - val_loss: 0.4343 - val_accuracy: 0.8478\n",
            "Epoch 29/150\n",
            "23/23 [==============================] - 0s 8ms/step - loss: 0.0200 - accuracy: 0.9891 - val_loss: 0.4611 - val_accuracy: 0.9130\n",
            "Epoch 30/150\n",
            "23/23 [==============================] - 0s 8ms/step - loss: 0.0118 - accuracy: 1.0000 - val_loss: 0.3933 - val_accuracy: 0.9130\n",
            "Epoch 31/150\n",
            "23/23 [==============================] - 0s 8ms/step - loss: 0.0082 - accuracy: 0.9946 - val_loss: 0.4390 - val_accuracy: 0.8696\n",
            "Epoch 32/150\n",
            "23/23 [==============================] - 0s 8ms/step - loss: 0.0102 - accuracy: 1.0000 - val_loss: 0.4101 - val_accuracy: 0.9130\n",
            "Epoch 33/150\n",
            "23/23 [==============================] - 0s 8ms/step - loss: 0.0107 - accuracy: 0.9891 - val_loss: 0.4042 - val_accuracy: 0.9130\n",
            "Epoch 34/150\n",
            "23/23 [==============================] - 0s 10ms/step - loss: 0.0296 - accuracy: 0.9837 - val_loss: 0.4075 - val_accuracy: 0.8913\n",
            "Epoch 35/150\n",
            "23/23 [==============================] - 0s 8ms/step - loss: 0.0316 - accuracy: 0.9891 - val_loss: 0.3774 - val_accuracy: 0.8696\n",
            "Epoch 36/150\n",
            "23/23 [==============================] - 0s 8ms/step - loss: 0.1333 - accuracy: 0.9511 - val_loss: 0.3065 - val_accuracy: 0.9565\n",
            "Epoch 37/150\n",
            "23/23 [==============================] - 0s 8ms/step - loss: 0.1115 - accuracy: 0.9511 - val_loss: 0.3072 - val_accuracy: 0.9565\n",
            "Epoch 38/150\n",
            "23/23 [==============================] - 0s 9ms/step - loss: 0.0901 - accuracy: 0.9728 - val_loss: 0.4077 - val_accuracy: 0.9130\n",
            "Epoch 39/150\n",
            "23/23 [==============================] - 0s 9ms/step - loss: 0.0176 - accuracy: 1.0000 - val_loss: 0.4256 - val_accuracy: 0.9130\n",
            "Epoch 40/150\n",
            "23/23 [==============================] - 0s 9ms/step - loss: 0.0234 - accuracy: 0.9946 - val_loss: 0.5196 - val_accuracy: 0.8696\n",
            "Epoch 41/150\n",
            "23/23 [==============================] - 0s 9ms/step - loss: 0.1021 - accuracy: 0.9674 - val_loss: 0.6066 - val_accuracy: 0.7609\n",
            "Epoch 42/150\n",
            "23/23 [==============================] - 0s 9ms/step - loss: 0.1168 - accuracy: 0.9728 - val_loss: 0.4105 - val_accuracy: 0.8696\n",
            "Epoch 43/150\n",
            "23/23 [==============================] - 0s 9ms/step - loss: 0.0445 - accuracy: 0.9837 - val_loss: 0.4363 - val_accuracy: 0.8696\n",
            "Epoch 44/150\n",
            "23/23 [==============================] - 0s 9ms/step - loss: 0.0295 - accuracy: 0.9946 - val_loss: 0.3463 - val_accuracy: 0.9130\n",
            "Epoch 45/150\n",
            "23/23 [==============================] - 0s 9ms/step - loss: 0.0122 - accuracy: 1.0000 - val_loss: 0.4978 - val_accuracy: 0.9130\n",
            "Epoch 46/150\n",
            "23/23 [==============================] - 0s 8ms/step - loss: 0.0039 - accuracy: 1.0000 - val_loss: 0.5271 - val_accuracy: 0.9130\n",
            "Epoch 47/150\n",
            "23/23 [==============================] - 0s 8ms/step - loss: 0.0065 - accuracy: 1.0000 - val_loss: 0.5522 - val_accuracy: 0.9130\n",
            "Epoch 48/150\n",
            "23/23 [==============================] - 0s 8ms/step - loss: 0.0062 - accuracy: 1.0000 - val_loss: 0.5950 - val_accuracy: 0.8696\n",
            "Epoch 49/150\n",
            "23/23 [==============================] - 0s 8ms/step - loss: 0.0032 - accuracy: 1.0000 - val_loss: 0.5469 - val_accuracy: 0.9130\n",
            "Epoch 50/150\n",
            "23/23 [==============================] - 0s 10ms/step - loss: 0.0023 - accuracy: 1.0000 - val_loss: 0.5402 - val_accuracy: 0.9130\n",
            "Epoch 51/150\n",
            "23/23 [==============================] - 0s 8ms/step - loss: 0.0022 - accuracy: 1.0000 - val_loss: 0.5245 - val_accuracy: 0.9130\n",
            "Epoch 52/150\n",
            "23/23 [==============================] - 0s 8ms/step - loss: 8.3160e-04 - accuracy: 1.0000 - val_loss: 0.5236 - val_accuracy: 0.9130\n",
            "Epoch 53/150\n",
            "23/23 [==============================] - 0s 8ms/step - loss: 0.0013 - accuracy: 1.0000 - val_loss: 0.5341 - val_accuracy: 0.9130\n",
            "Epoch 54/150\n",
            "23/23 [==============================] - 0s 8ms/step - loss: 8.7492e-04 - accuracy: 1.0000 - val_loss: 0.5380 - val_accuracy: 0.9130\n",
            "Epoch 55/150\n",
            "23/23 [==============================] - 0s 8ms/step - loss: 6.5851e-04 - accuracy: 1.0000 - val_loss: 0.5282 - val_accuracy: 0.9130\n",
            "Epoch 56/150\n",
            "23/23 [==============================] - 0s 9ms/step - loss: 0.0011 - accuracy: 1.0000 - val_loss: 0.5228 - val_accuracy: 0.9130\n",
            "Epoch 57/150\n",
            "23/23 [==============================] - 0s 9ms/step - loss: 0.0013 - accuracy: 1.0000 - val_loss: 0.5408 - val_accuracy: 0.9130\n",
            "Epoch 58/150\n",
            "23/23 [==============================] - 0s 9ms/step - loss: 0.0013 - accuracy: 1.0000 - val_loss: 0.5405 - val_accuracy: 0.9130\n",
            "Epoch 59/150\n",
            "23/23 [==============================] - 0s 8ms/step - loss: 0.0050 - accuracy: 1.0000 - val_loss: 0.5523 - val_accuracy: 0.9130\n",
            "Epoch 60/150\n",
            "23/23 [==============================] - 0s 9ms/step - loss: 0.0025 - accuracy: 1.0000 - val_loss: 0.6090 - val_accuracy: 0.9130\n",
            "Epoch 61/150\n",
            "23/23 [==============================] - 0s 9ms/step - loss: 0.0022 - accuracy: 1.0000 - val_loss: 0.5297 - val_accuracy: 0.9130\n",
            "Epoch 62/150\n",
            "23/23 [==============================] - 0s 9ms/step - loss: 7.2726e-04 - accuracy: 1.0000 - val_loss: 0.5428 - val_accuracy: 0.9130\n",
            "Epoch 63/150\n",
            "23/23 [==============================] - 0s 8ms/step - loss: 7.2569e-04 - accuracy: 1.0000 - val_loss: 0.5430 - val_accuracy: 0.9130\n",
            "Epoch 64/150\n",
            "23/23 [==============================] - 0s 8ms/step - loss: 3.9902e-04 - accuracy: 1.0000 - val_loss: 0.5452 - val_accuracy: 0.9130\n",
            "Epoch 65/150\n",
            "23/23 [==============================] - 0s 8ms/step - loss: 8.0227e-04 - accuracy: 1.0000 - val_loss: 0.5493 - val_accuracy: 0.9130\n",
            "Epoch 66/150\n",
            "23/23 [==============================] - 0s 8ms/step - loss: 6.0483e-04 - accuracy: 1.0000 - val_loss: 0.5719 - val_accuracy: 0.9130\n",
            "Epoch 67/150\n",
            "23/23 [==============================] - 0s 8ms/step - loss: 3.9054e-04 - accuracy: 1.0000 - val_loss: 0.5751 - val_accuracy: 0.9130\n",
            "Epoch 68/150\n",
            "23/23 [==============================] - 0s 8ms/step - loss: 9.4297e-04 - accuracy: 1.0000 - val_loss: 0.5640 - val_accuracy: 0.9130\n",
            "Epoch 69/150\n",
            "23/23 [==============================] - 0s 8ms/step - loss: 3.3731e-04 - accuracy: 1.0000 - val_loss: 0.5670 - val_accuracy: 0.9130\n",
            "Epoch 70/150\n",
            "23/23 [==============================] - 0s 8ms/step - loss: 4.3382e-04 - accuracy: 1.0000 - val_loss: 0.5699 - val_accuracy: 0.9130\n",
            "Epoch 71/150\n",
            "23/23 [==============================] - 0s 8ms/step - loss: 1.9262e-04 - accuracy: 1.0000 - val_loss: 0.5739 - val_accuracy: 0.9130\n",
            "Epoch 72/150\n",
            "23/23 [==============================] - 0s 8ms/step - loss: 3.0455e-04 - accuracy: 1.0000 - val_loss: 0.5728 - val_accuracy: 0.9130\n",
            "Epoch 73/150\n",
            "23/23 [==============================] - 0s 8ms/step - loss: 3.2728e-04 - accuracy: 1.0000 - val_loss: 0.5768 - val_accuracy: 0.9130\n",
            "Epoch 74/150\n",
            "23/23 [==============================] - 0s 9ms/step - loss: 2.2444e-04 - accuracy: 1.0000 - val_loss: 0.5793 - val_accuracy: 0.9130\n",
            "Epoch 75/150\n",
            "23/23 [==============================] - 0s 9ms/step - loss: 2.6768e-04 - accuracy: 1.0000 - val_loss: 0.5905 - val_accuracy: 0.9130\n",
            "Epoch 76/150\n",
            "23/23 [==============================] - 0s 9ms/step - loss: 2.7998e-04 - accuracy: 1.0000 - val_loss: 0.5936 - val_accuracy: 0.9130\n",
            "Epoch 77/150\n",
            "23/23 [==============================] - 0s 8ms/step - loss: 4.1538e-04 - accuracy: 1.0000 - val_loss: 0.5997 - val_accuracy: 0.9130\n",
            "Epoch 78/150\n",
            "23/23 [==============================] - 0s 9ms/step - loss: 2.1982e-04 - accuracy: 1.0000 - val_loss: 0.5974 - val_accuracy: 0.9130\n",
            "Epoch 79/150\n",
            "23/23 [==============================] - 0s 8ms/step - loss: 1.6934e-04 - accuracy: 1.0000 - val_loss: 0.5957 - val_accuracy: 0.9130\n",
            "Epoch 80/150\n",
            "23/23 [==============================] - 0s 9ms/step - loss: 4.7664e-04 - accuracy: 1.0000 - val_loss: 0.5921 - val_accuracy: 0.9130\n",
            "Epoch 81/150\n",
            "23/23 [==============================] - 0s 9ms/step - loss: 2.5874e-04 - accuracy: 1.0000 - val_loss: 0.5890 - val_accuracy: 0.9130\n",
            "Epoch 82/150\n",
            "23/23 [==============================] - 0s 9ms/step - loss: 2.3614e-04 - accuracy: 1.0000 - val_loss: 0.5870 - val_accuracy: 0.9130\n",
            "Epoch 83/150\n",
            "23/23 [==============================] - 0s 8ms/step - loss: 9.5540e-05 - accuracy: 1.0000 - val_loss: 0.5890 - val_accuracy: 0.9130\n",
            "Epoch 84/150\n",
            "23/23 [==============================] - 0s 8ms/step - loss: 1.3685e-04 - accuracy: 1.0000 - val_loss: 0.5925 - val_accuracy: 0.9130\n",
            "Epoch 85/150\n",
            "23/23 [==============================] - 0s 8ms/step - loss: 2.7263e-04 - accuracy: 1.0000 - val_loss: 0.5947 - val_accuracy: 0.9130\n",
            "Epoch 86/150\n",
            "23/23 [==============================] - 0s 8ms/step - loss: 0.0010 - accuracy: 1.0000 - val_loss: 0.6111 - val_accuracy: 0.9130\n",
            "Epoch 87/150\n",
            "23/23 [==============================] - 0s 8ms/step - loss: 6.2726e-04 - accuracy: 1.0000 - val_loss: 0.6057 - val_accuracy: 0.9130\n",
            "Epoch 88/150\n",
            "23/23 [==============================] - 0s 8ms/step - loss: 3.8527e-04 - accuracy: 1.0000 - val_loss: 0.5981 - val_accuracy: 0.9130\n",
            "Epoch 89/150\n",
            "23/23 [==============================] - 0s 8ms/step - loss: 1.2983e-04 - accuracy: 1.0000 - val_loss: 0.5894 - val_accuracy: 0.9130\n",
            "Epoch 90/150\n",
            "23/23 [==============================] - 0s 8ms/step - loss: 5.5252e-04 - accuracy: 1.0000 - val_loss: 0.5828 - val_accuracy: 0.9130\n",
            "Epoch 91/150\n",
            "23/23 [==============================] - 0s 8ms/step - loss: 3.4664e-04 - accuracy: 1.0000 - val_loss: 0.5651 - val_accuracy: 0.9130\n",
            "Epoch 92/150\n",
            "23/23 [==============================] - 0s 8ms/step - loss: 1.3944e-04 - accuracy: 1.0000 - val_loss: 0.5599 - val_accuracy: 0.9130\n",
            "Epoch 93/150\n",
            "23/23 [==============================] - 0s 9ms/step - loss: 2.2205e-04 - accuracy: 1.0000 - val_loss: 0.5592 - val_accuracy: 0.9130\n",
            "Epoch 94/150\n",
            "23/23 [==============================] - 0s 9ms/step - loss: 2.0269e-04 - accuracy: 1.0000 - val_loss: 0.5609 - val_accuracy: 0.9130\n",
            "Epoch 95/150\n",
            "23/23 [==============================] - 0s 9ms/step - loss: 3.1010e-04 - accuracy: 1.0000 - val_loss: 0.5709 - val_accuracy: 0.9130\n",
            "Epoch 96/150\n",
            "23/23 [==============================] - 0s 9ms/step - loss: 9.6217e-05 - accuracy: 1.0000 - val_loss: 0.5718 - val_accuracy: 0.9130\n",
            "Epoch 97/150\n",
            "23/23 [==============================] - 0s 9ms/step - loss: 1.3310e-04 - accuracy: 1.0000 - val_loss: 0.5706 - val_accuracy: 0.9130\n",
            "Epoch 98/150\n",
            "23/23 [==============================] - 0s 9ms/step - loss: 3.6490e-04 - accuracy: 1.0000 - val_loss: 0.5485 - val_accuracy: 0.9130\n",
            "Epoch 99/150\n",
            "23/23 [==============================] - 0s 9ms/step - loss: 4.0065e-04 - accuracy: 1.0000 - val_loss: 0.5732 - val_accuracy: 0.9130\n",
            "Epoch 100/150\n",
            "23/23 [==============================] - 0s 9ms/step - loss: 1.8104e-04 - accuracy: 1.0000 - val_loss: 0.5890 - val_accuracy: 0.9130\n",
            "Epoch 101/150\n",
            "23/23 [==============================] - 0s 8ms/step - loss: 9.8436e-04 - accuracy: 1.0000 - val_loss: 0.5864 - val_accuracy: 0.9130\n",
            "Epoch 102/150\n",
            "23/23 [==============================] - 0s 8ms/step - loss: 0.0068 - accuracy: 1.0000 - val_loss: 0.6770 - val_accuracy: 0.9130\n",
            "Epoch 103/150\n",
            "23/23 [==============================] - 0s 8ms/step - loss: 0.0020 - accuracy: 1.0000 - val_loss: 0.5832 - val_accuracy: 0.9130\n",
            "Epoch 104/150\n",
            "23/23 [==============================] - 0s 8ms/step - loss: 6.5043e-04 - accuracy: 1.0000 - val_loss: 0.6587 - val_accuracy: 0.8696\n",
            "Epoch 105/150\n",
            "23/23 [==============================] - 0s 8ms/step - loss: 4.6953e-04 - accuracy: 1.0000 - val_loss: 0.6385 - val_accuracy: 0.9130\n",
            "Epoch 106/150\n",
            "23/23 [==============================] - 0s 8ms/step - loss: 4.4231e-04 - accuracy: 1.0000 - val_loss: 0.6325 - val_accuracy: 0.9130\n",
            "Epoch 107/150\n",
            "23/23 [==============================] - 0s 9ms/step - loss: 3.4111e-04 - accuracy: 1.0000 - val_loss: 0.6270 - val_accuracy: 0.9130\n",
            "Epoch 108/150\n",
            "23/23 [==============================] - 0s 8ms/step - loss: 7.6835e-04 - accuracy: 1.0000 - val_loss: 0.5942 - val_accuracy: 0.9130\n",
            "Epoch 109/150\n",
            "23/23 [==============================] - 0s 8ms/step - loss: 3.0161e-04 - accuracy: 1.0000 - val_loss: 0.5871 - val_accuracy: 0.9130\n",
            "Epoch 110/150\n",
            "23/23 [==============================] - 0s 8ms/step - loss: 1.5155e-04 - accuracy: 1.0000 - val_loss: 0.5890 - val_accuracy: 0.9130\n",
            "Epoch 111/150\n",
            "23/23 [==============================] - 0s 9ms/step - loss: 3.4899e-04 - accuracy: 1.0000 - val_loss: 0.5994 - val_accuracy: 0.9130\n",
            "Epoch 112/150\n",
            "23/23 [==============================] - 0s 9ms/step - loss: 2.0699e-04 - accuracy: 1.0000 - val_loss: 0.6237 - val_accuracy: 0.9130\n",
            "Epoch 113/150\n",
            "23/23 [==============================] - 0s 9ms/step - loss: 1.4812e-04 - accuracy: 1.0000 - val_loss: 0.6274 - val_accuracy: 0.9130\n",
            "Epoch 114/150\n",
            "23/23 [==============================] - 0s 9ms/step - loss: 4.2235e-04 - accuracy: 1.0000 - val_loss: 0.6401 - val_accuracy: 0.9130\n",
            "Epoch 115/150\n",
            "23/23 [==============================] - 0s 9ms/step - loss: 2.0686e-04 - accuracy: 1.0000 - val_loss: 0.6480 - val_accuracy: 0.9130\n",
            "Epoch 116/150\n",
            "23/23 [==============================] - 0s 9ms/step - loss: 9.0490e-05 - accuracy: 1.0000 - val_loss: 0.6450 - val_accuracy: 0.9130\n",
            "Epoch 117/150\n",
            "23/23 [==============================] - 0s 9ms/step - loss: 1.8279e-04 - accuracy: 1.0000 - val_loss: 0.6488 - val_accuracy: 0.9130\n",
            "Epoch 118/150\n",
            "23/23 [==============================] - 0s 9ms/step - loss: 5.5050e-05 - accuracy: 1.0000 - val_loss: 0.6515 - val_accuracy: 0.9130\n",
            "Epoch 119/150\n",
            "23/23 [==============================] - 0s 8ms/step - loss: 1.5654e-04 - accuracy: 1.0000 - val_loss: 0.6518 - val_accuracy: 0.9130\n",
            "Epoch 120/150\n",
            "23/23 [==============================] - 0s 8ms/step - loss: 2.4609e-04 - accuracy: 1.0000 - val_loss: 0.6487 - val_accuracy: 0.9130\n",
            "Epoch 121/150\n",
            "23/23 [==============================] - 0s 8ms/step - loss: 2.2668e-04 - accuracy: 1.0000 - val_loss: 0.6393 - val_accuracy: 0.9130\n",
            "Epoch 122/150\n",
            "23/23 [==============================] - 0s 8ms/step - loss: 1.2118e-04 - accuracy: 1.0000 - val_loss: 0.6238 - val_accuracy: 0.9130\n",
            "Epoch 123/150\n",
            "23/23 [==============================] - 0s 8ms/step - loss: 1.4026e-04 - accuracy: 1.0000 - val_loss: 0.6136 - val_accuracy: 0.9130\n",
            "Epoch 124/150\n",
            "23/23 [==============================] - 0s 8ms/step - loss: 9.0015e-05 - accuracy: 1.0000 - val_loss: 0.6187 - val_accuracy: 0.9130\n",
            "Epoch 125/150\n",
            "23/23 [==============================] - 0s 8ms/step - loss: 5.7383e-05 - accuracy: 1.0000 - val_loss: 0.6222 - val_accuracy: 0.9130\n",
            "Epoch 126/150\n",
            "23/23 [==============================] - 0s 8ms/step - loss: 1.8590e-04 - accuracy: 1.0000 - val_loss: 0.6185 - val_accuracy: 0.9130\n",
            "Epoch 127/150\n",
            "23/23 [==============================] - 0s 8ms/step - loss: 9.9487e-05 - accuracy: 1.0000 - val_loss: 0.6154 - val_accuracy: 0.9130\n",
            "Epoch 128/150\n",
            "23/23 [==============================] - 0s 8ms/step - loss: 4.4947e-05 - accuracy: 1.0000 - val_loss: 0.6178 - val_accuracy: 0.9130\n",
            "Epoch 129/150\n",
            "23/23 [==============================] - 0s 8ms/step - loss: 1.4350e-04 - accuracy: 1.0000 - val_loss: 0.6253 - val_accuracy: 0.9130\n",
            "Epoch 130/150\n",
            "23/23 [==============================] - 0s 9ms/step - loss: 7.1066e-05 - accuracy: 1.0000 - val_loss: 0.6358 - val_accuracy: 0.9130\n",
            "Epoch 131/150\n",
            "23/23 [==============================] - 0s 9ms/step - loss: 2.5681e-05 - accuracy: 1.0000 - val_loss: 0.6379 - val_accuracy: 0.9130\n",
            "Epoch 132/150\n",
            "23/23 [==============================] - 0s 8ms/step - loss: 8.3958e-05 - accuracy: 1.0000 - val_loss: 0.6470 - val_accuracy: 0.9130\n",
            "Epoch 133/150\n",
            "23/23 [==============================] - 0s 9ms/step - loss: 1.4463e-04 - accuracy: 1.0000 - val_loss: 0.6507 - val_accuracy: 0.9130\n",
            "Epoch 134/150\n",
            "23/23 [==============================] - 0s 9ms/step - loss: 7.5519e-05 - accuracy: 1.0000 - val_loss: 0.6525 - val_accuracy: 0.9130\n",
            "Epoch 135/150\n",
            "23/23 [==============================] - 0s 9ms/step - loss: 1.1744e-04 - accuracy: 1.0000 - val_loss: 0.6608 - val_accuracy: 0.9130\n",
            "Epoch 136/150\n",
            "23/23 [==============================] - 0s 9ms/step - loss: 2.4062e-05 - accuracy: 1.0000 - val_loss: 0.6610 - val_accuracy: 0.9130\n",
            "Epoch 137/150\n",
            "23/23 [==============================] - 0s 9ms/step - loss: 2.5103e-05 - accuracy: 1.0000 - val_loss: 0.6618 - val_accuracy: 0.9130\n",
            "Epoch 138/150\n",
            "23/23 [==============================] - 0s 8ms/step - loss: 3.6872e-05 - accuracy: 1.0000 - val_loss: 0.6638 - val_accuracy: 0.9130\n",
            "Epoch 139/150\n",
            "23/23 [==============================] - 0s 8ms/step - loss: 3.6917e-05 - accuracy: 1.0000 - val_loss: 0.6638 - val_accuracy: 0.9130\n",
            "Epoch 140/150\n",
            "23/23 [==============================] - 0s 8ms/step - loss: 2.1536e-05 - accuracy: 1.0000 - val_loss: 0.6645 - val_accuracy: 0.9130\n",
            "Epoch 141/150\n",
            "23/23 [==============================] - 0s 8ms/step - loss: 4.2542e-05 - accuracy: 1.0000 - val_loss: 0.6645 - val_accuracy: 0.9130\n",
            "Epoch 142/150\n",
            "23/23 [==============================] - 0s 8ms/step - loss: 4.2404e-05 - accuracy: 1.0000 - val_loss: 0.6592 - val_accuracy: 0.9130\n",
            "Epoch 143/150\n",
            "23/23 [==============================] - 0s 8ms/step - loss: 4.6593e-05 - accuracy: 1.0000 - val_loss: 0.6642 - val_accuracy: 0.9130\n",
            "Epoch 144/150\n",
            "23/23 [==============================] - 0s 8ms/step - loss: 6.0597e-05 - accuracy: 1.0000 - val_loss: 0.6616 - val_accuracy: 0.9130\n",
            "Epoch 145/150\n",
            "23/23 [==============================] - 0s 8ms/step - loss: 3.7049e-05 - accuracy: 1.0000 - val_loss: 0.6614 - val_accuracy: 0.9130\n",
            "Epoch 146/150\n",
            "23/23 [==============================] - 0s 8ms/step - loss: 5.2578e-05 - accuracy: 1.0000 - val_loss: 0.6622 - val_accuracy: 0.9130\n",
            "Epoch 147/150\n",
            "23/23 [==============================] - 0s 9ms/step - loss: 2.4054e-05 - accuracy: 1.0000 - val_loss: 0.6615 - val_accuracy: 0.9130\n",
            "Epoch 148/150\n",
            "23/23 [==============================] - 0s 9ms/step - loss: 3.8109e-05 - accuracy: 1.0000 - val_loss: 0.6607 - val_accuracy: 0.9130\n",
            "Epoch 149/150\n",
            "23/23 [==============================] - 0s 9ms/step - loss: 7.6002e-05 - accuracy: 1.0000 - val_loss: 0.6604 - val_accuracy: 0.9130\n",
            "Epoch 150/150\n",
            "23/23 [==============================] - 0s 9ms/step - loss: 3.0421e-05 - accuracy: 1.0000 - val_loss: 0.6629 - val_accuracy: 0.9130\n"
          ]
        }
      ]
    },
    {
      "cell_type": "markdown",
      "source": [
        "##visualize train and validation loss and accuracy curves"
      ],
      "metadata": {
        "id": "K_bC_SbYmdUq"
      }
    },
    {
      "cell_type": "code",
      "source": [
        "loss = pd.DataFrame(model.history.history)\n",
        "\n",
        "#plotting the loss and accuracy \n",
        "plt.figure(figsize=(10,10))\n",
        "\n",
        "plt.subplot(2,2,1)\n",
        "plt.plot(loss[\"loss\"], label =\"Loss\")\n",
        "plt.plot(loss[\"val_loss\"], label = \"Validation_loss\")\n",
        "plt.legend()\n",
        "plt.title(\"Training and Validation Loss\")\n",
        "\n",
        "plt.subplot(2,2,2)\n",
        "plt.plot(loss['accuracy'],label = \"Training Accuracy\")\n",
        "plt.plot(loss['val_accuracy'], label =\"Validation_ Accuracy \")\n",
        "plt.legend()\n",
        "plt.title(\"Training-Validation Accuracy\")"
      ],
      "metadata": {
        "colab": {
          "base_uri": "https://localhost:8080/",
          "height": 329
        },
        "id": "JvWzB_usAAvy",
        "outputId": "fe03d8f4-9e62-4c5a-a595-e9cf3369718a"
      },
      "execution_count": 44,
      "outputs": [
        {
          "output_type": "execute_result",
          "data": {
            "text/plain": [
              "Text(0.5, 1.0, 'Training-Validation Accuracy')"
            ]
          },
          "metadata": {},
          "execution_count": 44
        },
        {
          "output_type": "display_data",
          "data": {
            "text/plain": [
              "<Figure size 720x720 with 2 Axes>"
            ],
            "image/png": "[encoded data removed]"
          },
          "metadata": {
            "needs_background": "light"
          }
        }
      ]
    }
  ]
}